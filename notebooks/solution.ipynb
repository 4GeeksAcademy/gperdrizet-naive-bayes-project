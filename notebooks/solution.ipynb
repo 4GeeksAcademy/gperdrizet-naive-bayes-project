{
 "cells": [
  {
   "cell_type": "markdown",
   "metadata": {},
   "source": [
    "# Naive Bayes classifier: Google Play Store reviews\n",
    "\n",
    "## Notebook set-up"
   ]
  },
  {
   "cell_type": "code",
   "execution_count": 24,
   "metadata": {},
   "outputs": [
    {
     "name": "stderr",
     "output_type": "stream",
     "text": [
      "[nltk_data] Downloading package punkt_tab to /home/vscode/nltk_data...\n",
      "[nltk_data]   Package punkt_tab is already up-to-date!\n",
      "[nltk_data] Downloading package wordnet to /home/vscode/nltk_data...\n",
      "[nltk_data]   Package wordnet is already up-to-date!\n"
     ]
    }
   ],
   "source": [
    "\n",
    "# Python standard library imports\n",
    "import string\n",
    "from pathlib import Path\n",
    "\n",
    "# PyPI imports\n",
    "import nltk\n",
    "import numpy as np\n",
    "import pandas as pd\n",
    "import seaborn as sns\n",
    "import matplotlib.pyplot as plt\n",
    "from nltk.stem import WordNetLemmatizer\n",
    "from scipy.stats import randint\n",
    "from sklearn.cluster import FeatureAgglomeration\n",
    "from sklearn.decomposition import PCA\n",
    "from sklearn.model_selection import train_test_split, cross_val_score, GridSearchCV, StratifiedShuffleSplit\n",
    "from sklearn.feature_extraction.text import CountVectorizer\n",
    "from sklearn.linear_model import LogisticRegression\n",
    "from sklearn.metrics import accuracy_score, confusion_matrix, ConfusionMatrixDisplay\n",
    "from sklearn.naive_bayes import MultinomialNB, GaussianNB, BernoulliNB, ComplementNB\n",
    "from sklearn.pipeline import Pipeline\n",
    "from sklearn.preprocessing import MinMaxScaler\n",
    "\n",
    "# Internal imports\n",
    "import functions as funcs\n",
    "\n",
    "# Download natural language toolkit resources\n",
    "nltk.download('punkt_tab')\n",
    "nltk.download('wordnet')\n",
    "\n",
    "# Set random seed for reproducibility\n",
    "RANDOM_SEED = 315\n",
    "\n",
    "# Set cross-validation folds\n",
    "CV_FOLDS = 10\n",
    "CV_SPLIT = 0.5"
   ]
  },
  {
   "cell_type": "markdown",
   "metadata": {},
   "source": [
    "## 1. Data loading\n",
    "\n",
    "### 1.1. Load data from URL"
   ]
  },
  {
   "cell_type": "code",
   "execution_count": 2,
   "metadata": {},
   "outputs": [],
   "source": [
    "# Load the data from the URL provided in the project tutorial\n",
    "data_df = pd.read_csv('https://raw.githubusercontent.com/4GeeksAcademy/naive-bayes-project-tutorial/main/playstore_reviews.csv')"
   ]
  },
  {
   "cell_type": "markdown",
   "metadata": {},
   "source": [
    "### 1.2. Save a local copy"
   ]
  },
  {
   "cell_type": "code",
   "execution_count": 3,
   "metadata": {},
   "outputs": [],
   "source": [
    "# Make a directory for raw data\n",
    "Path('../data/raw').mkdir(exist_ok=True, parents=True)\n",
    "\n",
    "# Save a local copy of the raw data\n",
    "data_df.to_parquet('../data/raw/playstore_reviews.parquet')"
   ]
  },
  {
   "cell_type": "markdown",
   "metadata": {},
   "source": [
    "### 1.3. Inspect"
   ]
  },
  {
   "cell_type": "code",
   "execution_count": 4,
   "metadata": {},
   "outputs": [
    {
     "data": {
      "text/html": [
       "<div>\n",
       "<style scoped>\n",
       "    .dataframe tbody tr th:only-of-type {\n",
       "        vertical-align: middle;\n",
       "    }\n",
       "\n",
       "    .dataframe tbody tr th {\n",
       "        vertical-align: top;\n",
       "    }\n",
       "\n",
       "    .dataframe thead th {\n",
       "        text-align: right;\n",
       "    }\n",
       "</style>\n",
       "<table border=\"1\" class=\"dataframe\">\n",
       "  <thead>\n",
       "    <tr style=\"text-align: right;\">\n",
       "      <th></th>\n",
       "      <th>package_name</th>\n",
       "      <th>review</th>\n",
       "      <th>polarity</th>\n",
       "    </tr>\n",
       "  </thead>\n",
       "  <tbody>\n",
       "    <tr>\n",
       "      <th>0</th>\n",
       "      <td>com.facebook.katana</td>\n",
       "      <td>privacy at least put some option appear offli...</td>\n",
       "      <td>0</td>\n",
       "    </tr>\n",
       "    <tr>\n",
       "      <th>1</th>\n",
       "      <td>com.facebook.katana</td>\n",
       "      <td>messenger issues ever since the last update, ...</td>\n",
       "      <td>0</td>\n",
       "    </tr>\n",
       "    <tr>\n",
       "      <th>2</th>\n",
       "      <td>com.facebook.katana</td>\n",
       "      <td>profile any time my wife or anybody has more ...</td>\n",
       "      <td>0</td>\n",
       "    </tr>\n",
       "    <tr>\n",
       "      <th>3</th>\n",
       "      <td>com.facebook.katana</td>\n",
       "      <td>the new features suck for those of us who don...</td>\n",
       "      <td>0</td>\n",
       "    </tr>\n",
       "    <tr>\n",
       "      <th>4</th>\n",
       "      <td>com.facebook.katana</td>\n",
       "      <td>forced reload on uploading pic on replying co...</td>\n",
       "      <td>0</td>\n",
       "    </tr>\n",
       "  </tbody>\n",
       "</table>\n",
       "</div>"
      ],
      "text/plain": [
       "          package_name                                             review  \\\n",
       "0  com.facebook.katana   privacy at least put some option appear offli...   \n",
       "1  com.facebook.katana   messenger issues ever since the last update, ...   \n",
       "2  com.facebook.katana   profile any time my wife or anybody has more ...   \n",
       "3  com.facebook.katana   the new features suck for those of us who don...   \n",
       "4  com.facebook.katana   forced reload on uploading pic on replying co...   \n",
       "\n",
       "   polarity  \n",
       "0         0  \n",
       "1         0  \n",
       "2         0  \n",
       "3         0  \n",
       "4         0  "
      ]
     },
     "execution_count": 4,
     "metadata": {},
     "output_type": "execute_result"
    }
   ],
   "source": [
    "data_df.head()"
   ]
  },
  {
   "cell_type": "code",
   "execution_count": 5,
   "metadata": {},
   "outputs": [
    {
     "name": "stdout",
     "output_type": "stream",
     "text": [
      "<class 'pandas.core.frame.DataFrame'>\n",
      "RangeIndex: 891 entries, 0 to 890\n",
      "Data columns (total 3 columns):\n",
      " #   Column        Non-Null Count  Dtype \n",
      "---  ------        --------------  ----- \n",
      " 0   package_name  891 non-null    object\n",
      " 1   review        891 non-null    object\n",
      " 2   polarity      891 non-null    int64 \n",
      "dtypes: int64(1), object(2)\n",
      "memory usage: 21.0+ KB\n"
     ]
    }
   ],
   "source": [
    "data_df.info()"
   ]
  },
  {
   "cell_type": "markdown",
   "metadata": {},
   "source": [
    "## 2. Review length distribution"
   ]
  },
  {
   "cell_type": "code",
   "execution_count": 6,
   "metadata": {},
   "outputs": [
    {
     "data": {
      "image/png": "[encoded data removed]",
      "text/plain": [
       "<Figure size 640x480 with 1 Axes>"
      ]
     },
     "metadata": {},
     "output_type": "display_data"
    },
    {
     "name": "stdout",
     "output_type": "stream",
     "text": [
      "Review length mean: 232\n",
      "Review length min: 6\n",
      "Review length max: 910\n"
     ]
    }
   ],
   "source": [
    "lengths = data_df['review'].str.len().tolist()\n",
    "\n",
    "plt.title('Review length distribution')\n",
    "plt.xlabel('Characters')\n",
    "plt.ylabel('Reviews')\n",
    "plt.hist(lengths, bins=30, color='black')\n",
    "plt.show()\n",
    "\n",
    "print(f'Review length mean: {np.mean(lengths):.0f}')\n",
    "print(f'Review length min: {min(lengths):.0f}')\n",
    "print(f'Review length max: {max(lengths):.0f}')"
   ]
  },
  {
   "cell_type": "markdown",
   "metadata": {},
   "source": [
    "### 2.1. Long reviews"
   ]
  },
  {
   "cell_type": "code",
   "execution_count": 7,
   "metadata": {},
   "outputs": [
    {
     "name": "stdout",
     "output_type": "stream",
     "text": [
      " bait and switch i purchased my 3rd samsung tablet with  advertisement of free gifts, one of them being 48 additional gb cloud storage for 2 years.  the 2nd samsung tablet i bought also had this free gift and it was a nightmare to get samsung and dropbox to honor it.  so, after buying this 3rd high end tablet with the same claim of the free 48gb for 2 years in the fine print, which you can only see after purchasing the tablet, dropbox only honors the offer on the first device you purchased and you are disqualified for all future devices.  this is sleazy and bait and switch.  free= not subject to any compensation, encumbrance, repayment in kind, etc.  because of this bait and switch advertising on the part of samsung and dropbox i suggest you really find out what kind of company dropbox is before using their services.\n"
     ]
    }
   ],
   "source": [
    "data_df['review_length'] = lengths\n",
    "long_reviews = data_df[data_df['review_length'] > 600]\n",
    "\n",
    "print(long_reviews['review'].iloc[0])"
   ]
  },
  {
   "cell_type": "code",
   "execution_count": 8,
   "metadata": {},
   "outputs": [
    {
     "name": "stdout",
     "output_type": "stream",
     "text": [
      "  ătoo slow loading webclips!!! ăno pdf support at all... (even simpler apps do that!) ă web pages that are clipped do not adjust to current window size automatically when window is shrunk or expanded, (any program does this...geez). ă highlighting? needs more colors instead of brown mustard yellow. no customer support responses either, evernote must have been taken over by students. it's not even fun to use anymore because it is slow as hell.  this is especially for serious business users. any five star ratings down here must have been given by employees under different themes. this program has really retarded over the years. they need to stick to improving their bread and butter instead of selling side junk and features that are useless. well they got my money this time, so i have to put up with it for a few more months. the lack of pdf support really is terrible for a program like this.\n"
     ]
    }
   ],
   "source": [
    "print(long_reviews['review'].iloc[1])"
   ]
  },
  {
   "cell_type": "code",
   "execution_count": 9,
   "metadata": {},
   "outputs": [
    {
     "name": "stdout",
     "output_type": "stream",
     "text": [
      "  not since the update i don't.                                  update:- it is very slow on both data (uk ee network) and wifi (all of home via bt /work network/london underground virgin network) on all devices. version number is 13.0.2036.98649 on each device.  practically unusable at present and everything was fine before upgrading.  reading other comments i'm far from the only one having problems. high and low quality images helps but it is still worse than before the upgrade.  and just discovered that previously a double tap enlarged the text sufficiently to make it readable.  now it enlarges it a tiny amount but pinch and zoom is still required.    why did you do this?  the good old adage 'if it ain't broke don't fix it absolutely comes to mind.\n"
     ]
    }
   ],
   "source": [
    "print(long_reviews['review'].iloc[2])"
   ]
  },
  {
   "cell_type": "markdown",
   "metadata": {},
   "source": [
    "### 2.2. Short reviews"
   ]
  },
  {
   "cell_type": "code",
   "execution_count": 10,
   "metadata": {},
   "outputs": [
    {
     "data": {
      "text/html": [
       "<div>\n",
       "<style scoped>\n",
       "    .dataframe tbody tr th:only-of-type {\n",
       "        vertical-align: middle;\n",
       "    }\n",
       "\n",
       "    .dataframe tbody tr th {\n",
       "        vertical-align: top;\n",
       "    }\n",
       "\n",
       "    .dataframe thead th {\n",
       "        text-align: right;\n",
       "    }\n",
       "</style>\n",
       "<table border=\"1\" class=\"dataframe\">\n",
       "  <thead>\n",
       "    <tr style=\"text-align: right;\">\n",
       "      <th></th>\n",
       "      <th>package_name</th>\n",
       "      <th>review</th>\n",
       "      <th>polarity</th>\n",
       "      <th>review_length</th>\n",
       "    </tr>\n",
       "  </thead>\n",
       "  <tbody>\n",
       "    <tr>\n",
       "      <th>511</th>\n",
       "      <td>com.Slack</td>\n",
       "      <td>love new material design</td>\n",
       "      <td>1</td>\n",
       "      <td>26</td>\n",
       "    </tr>\n",
       "    <tr>\n",
       "      <th>513</th>\n",
       "      <td>com.Slack</td>\n",
       "      <td>better than groupme đ</td>\n",
       "      <td>1</td>\n",
       "      <td>26</td>\n",
       "    </tr>\n",
       "    <tr>\n",
       "      <th>514</th>\n",
       "      <td>com.Slack</td>\n",
       "      <td>one account for all devices</td>\n",
       "      <td>1</td>\n",
       "      <td>29</td>\n",
       "    </tr>\n",
       "    <tr>\n",
       "      <th>557</th>\n",
       "      <td>jabanaki.todo.todoly</td>\n",
       "      <td>awesome</td>\n",
       "      <td>1</td>\n",
       "      <td>11</td>\n",
       "    </tr>\n",
       "    <tr>\n",
       "      <th>755</th>\n",
       "      <td>com.shirantech.kantipur</td>\n",
       "      <td>too much pop up add</td>\n",
       "      <td>0</td>\n",
       "      <td>21</td>\n",
       "    </tr>\n",
       "  </tbody>\n",
       "</table>\n",
       "</div>"
      ],
      "text/plain": [
       "                package_name                         review  polarity  \\\n",
       "511                com.Slack       love new material design         1   \n",
       "513                com.Slack       better than groupme đ         1   \n",
       "514                com.Slack    one account for all devices         1   \n",
       "557     jabanaki.todo.todoly                      awesome           1   \n",
       "755  com.shirantech.kantipur            too much pop up add         0   \n",
       "\n",
       "     review_length  \n",
       "511             26  \n",
       "513             26  \n",
       "514             29  \n",
       "557             11  \n",
       "755             21  "
      ]
     },
     "execution_count": 10,
     "metadata": {},
     "output_type": "execute_result"
    }
   ],
   "source": [
    "short_length = 30\n",
    "\n",
    "short_reviews = data_df[data_df['review_length'] < short_length]\n",
    "short_reviews.head()"
   ]
  },
  {
   "cell_type": "markdown",
   "metadata": {},
   "source": [
    "### 2.3. Filter reviews by length"
   ]
  },
  {
   "cell_type": "code",
   "execution_count": 11,
   "metadata": {},
   "outputs": [
    {
     "name": "stdout",
     "output_type": "stream",
     "text": [
      "<class 'pandas.core.frame.DataFrame'>\n",
      "RangeIndex: 885 entries, 0 to 884\n",
      "Data columns (total 4 columns):\n",
      " #   Column         Non-Null Count  Dtype \n",
      "---  ------         --------------  ----- \n",
      " 0   package_name   885 non-null    object\n",
      " 1   review         885 non-null    object\n",
      " 2   polarity       885 non-null    int64 \n",
      " 3   review_length  885 non-null    int64 \n",
      "dtypes: int64(2), object(2)\n",
      "memory usage: 27.8+ KB\n"
     ]
    }
   ],
   "source": [
    "data_df = data_df[(data_df['review_length'] >= 10) & (data_df['review_length'] <= 600)]\n",
    "data_df.reset_index(drop=True, inplace=True)\n",
    "data_df.info()"
   ]
  },
  {
   "cell_type": "markdown",
   "metadata": {},
   "source": [
    "## 3. Text preprocessing"
   ]
  },
  {
   "cell_type": "code",
   "execution_count": 12,
   "metadata": {},
   "outputs": [],
   "source": [
    "# Get just the reviews\n",
    "reviews = data_df['review']"
   ]
  },
  {
   "cell_type": "code",
   "execution_count": 13,
   "metadata": {},
   "outputs": [],
   "source": [
    "# Lowercase the reviews\n",
    "reviews = reviews.str.lower()"
   ]
  },
  {
   "cell_type": "code",
   "execution_count": 14,
   "metadata": {},
   "outputs": [],
   "source": [
    "# Remove numbers\n",
    "reviews = reviews.str.replace(r'\\d+', '', regex=True)"
   ]
  },
  {
   "cell_type": "code",
   "execution_count": 15,
   "metadata": {},
   "outputs": [],
   "source": [
    "# Remove punctuation\n",
    "reviews = reviews.str.replace('[{}]'.format(string.punctuation), '')"
   ]
  },
  {
   "cell_type": "code",
   "execution_count": 16,
   "metadata": {},
   "outputs": [],
   "source": [
    "# Lemmatize the text\n",
    "\n",
    "def lemmatize_text(text):\n",
    "\n",
    "    # Create a lemmatizer object\n",
    "    lemmatizer = WordNetLemmatizer()\n",
    "\n",
    "    # Tokenize the text into words\n",
    "    words = nltk.word_tokenize(text)\n",
    "\n",
    "    # Lemmatize each word\n",
    "    lemmatized_words = [lemmatizer.lemmatize(word) for word in words]\n",
    "\n",
    "    # Join the lemmatized words back into a string\n",
    "    lemmatized_text = ' '.join(lemmatized_words)\n",
    "\n",
    "    return lemmatized_text\n",
    "\n",
    "reviews = reviews.apply(lemmatize_text)"
   ]
  },
  {
   "cell_type": "markdown",
   "metadata": {},
   "source": [
    "## 4. Bag-of-words encoding\n",
    "\n",
    "### 4.1. Text vectorization"
   ]
  },
  {
   "cell_type": "code",
   "execution_count": 17,
   "metadata": {},
   "outputs": [
    {
     "name": "stdout",
     "output_type": "stream",
     "text": [
      "Word count matrix has 885 rows and 3221 columns\n"
     ]
    },
    {
     "data": {
      "text/html": [
       "<div>\n",
       "<style scoped>\n",
       "    .dataframe tbody tr th:only-of-type {\n",
       "        vertical-align: middle;\n",
       "    }\n",
       "\n",
       "    .dataframe tbody tr th {\n",
       "        vertical-align: top;\n",
       "    }\n",
       "\n",
       "    .dataframe thead th {\n",
       "        text-align: right;\n",
       "    }\n",
       "</style>\n",
       "<table border=\"1\" class=\"dataframe\">\n",
       "  <thead>\n",
       "    <tr style=\"text-align: right;\">\n",
       "      <th></th>\n",
       "      <th>aafnaii</th>\n",
       "      <th>aakhirat</th>\n",
       "      <th>aalikati</th>\n",
       "      <th>aap</th>\n",
       "      <th>aaps</th>\n",
       "      <th>aapsssssss</th>\n",
       "      <th>aaru</th>\n",
       "      <th>ability</th>\n",
       "      <th>abke</th>\n",
       "      <th>able</th>\n",
       "      <th>...</th>\n",
       "      <th>šŕľ</th>\n",
       "      <th>ťŕ</th>\n",
       "      <th>ťŕľ</th>\n",
       "      <th>źŕ</th>\n",
       "      <th>żŕ</th>\n",
       "      <th>żŕľ</th>\n",
       "      <th>žŕ</th>\n",
       "      <th>žŕľ</th>\n",
       "      <th>ˇŕ</th>\n",
       "      <th>ˇŕľ</th>\n",
       "    </tr>\n",
       "  </thead>\n",
       "  <tbody>\n",
       "    <tr>\n",
       "      <th>0</th>\n",
       "      <td>0</td>\n",
       "      <td>0</td>\n",
       "      <td>0</td>\n",
       "      <td>0</td>\n",
       "      <td>0</td>\n",
       "      <td>0</td>\n",
       "      <td>0</td>\n",
       "      <td>0</td>\n",
       "      <td>0</td>\n",
       "      <td>0</td>\n",
       "      <td>...</td>\n",
       "      <td>0</td>\n",
       "      <td>0</td>\n",
       "      <td>0</td>\n",
       "      <td>0</td>\n",
       "      <td>0</td>\n",
       "      <td>0</td>\n",
       "      <td>0</td>\n",
       "      <td>0</td>\n",
       "      <td>0</td>\n",
       "      <td>0</td>\n",
       "    </tr>\n",
       "    <tr>\n",
       "      <th>1</th>\n",
       "      <td>0</td>\n",
       "      <td>0</td>\n",
       "      <td>0</td>\n",
       "      <td>0</td>\n",
       "      <td>0</td>\n",
       "      <td>0</td>\n",
       "      <td>0</td>\n",
       "      <td>0</td>\n",
       "      <td>0</td>\n",
       "      <td>0</td>\n",
       "      <td>...</td>\n",
       "      <td>0</td>\n",
       "      <td>0</td>\n",
       "      <td>0</td>\n",
       "      <td>0</td>\n",
       "      <td>0</td>\n",
       "      <td>0</td>\n",
       "      <td>0</td>\n",
       "      <td>0</td>\n",
       "      <td>0</td>\n",
       "      <td>0</td>\n",
       "    </tr>\n",
       "    <tr>\n",
       "      <th>2</th>\n",
       "      <td>0</td>\n",
       "      <td>0</td>\n",
       "      <td>0</td>\n",
       "      <td>0</td>\n",
       "      <td>0</td>\n",
       "      <td>0</td>\n",
       "      <td>0</td>\n",
       "      <td>0</td>\n",
       "      <td>0</td>\n",
       "      <td>0</td>\n",
       "      <td>...</td>\n",
       "      <td>0</td>\n",
       "      <td>0</td>\n",
       "      <td>0</td>\n",
       "      <td>0</td>\n",
       "      <td>0</td>\n",
       "      <td>0</td>\n",
       "      <td>0</td>\n",
       "      <td>0</td>\n",
       "      <td>0</td>\n",
       "      <td>0</td>\n",
       "    </tr>\n",
       "    <tr>\n",
       "      <th>3</th>\n",
       "      <td>0</td>\n",
       "      <td>0</td>\n",
       "      <td>0</td>\n",
       "      <td>0</td>\n",
       "      <td>0</td>\n",
       "      <td>0</td>\n",
       "      <td>0</td>\n",
       "      <td>0</td>\n",
       "      <td>0</td>\n",
       "      <td>1</td>\n",
       "      <td>...</td>\n",
       "      <td>0</td>\n",
       "      <td>0</td>\n",
       "      <td>0</td>\n",
       "      <td>0</td>\n",
       "      <td>0</td>\n",
       "      <td>0</td>\n",
       "      <td>0</td>\n",
       "      <td>0</td>\n",
       "      <td>0</td>\n",
       "      <td>0</td>\n",
       "    </tr>\n",
       "    <tr>\n",
       "      <th>4</th>\n",
       "      <td>0</td>\n",
       "      <td>0</td>\n",
       "      <td>0</td>\n",
       "      <td>0</td>\n",
       "      <td>0</td>\n",
       "      <td>0</td>\n",
       "      <td>0</td>\n",
       "      <td>0</td>\n",
       "      <td>0</td>\n",
       "      <td>0</td>\n",
       "      <td>...</td>\n",
       "      <td>0</td>\n",
       "      <td>0</td>\n",
       "      <td>0</td>\n",
       "      <td>0</td>\n",
       "      <td>0</td>\n",
       "      <td>0</td>\n",
       "      <td>0</td>\n",
       "      <td>0</td>\n",
       "      <td>0</td>\n",
       "      <td>0</td>\n",
       "    </tr>\n",
       "  </tbody>\n",
       "</table>\n",
       "<p>5 rows × 3221 columns</p>\n",
       "</div>"
      ],
      "text/plain": [
       "   aafnaii  aakhirat  aalikati  aap  aaps  aapsssssss  aaru  ability  abke  \\\n",
       "0        0         0         0    0     0           0     0        0     0   \n",
       "1        0         0         0    0     0           0     0        0     0   \n",
       "2        0         0         0    0     0           0     0        0     0   \n",
       "3        0         0         0    0     0           0     0        0     0   \n",
       "4        0         0         0    0     0           0     0        0     0   \n",
       "\n",
       "   able  ...  šŕľ  ťŕ  ťŕľ  źŕ  żŕ  żŕľ  žŕ  žŕľ  ˇŕ  ˇŕľ  \n",
       "0     0  ...    0   0    0   0   0    0   0    0   0    0  \n",
       "1     0  ...    0   0    0   0   0    0   0    0   0    0  \n",
       "2     0  ...    0   0    0   0   0    0   0    0   0    0  \n",
       "3     1  ...    0   0    0   0   0    0   0    0   0    0  \n",
       "4     0  ...    0   0    0   0   0    0   0    0   0    0  \n",
       "\n",
       "[5 rows x 3221 columns]"
      ]
     },
     "execution_count": 17,
     "metadata": {},
     "output_type": "execute_result"
    }
   ],
   "source": [
    "# Fit the count vectorizer and transform the reviews into word counts\n",
    "vector_model = CountVectorizer(stop_words=\"english\")\n",
    "word_counts = vector_model.fit_transform(reviews).toarray()\n",
    "\n",
    "print(f'Word count matrix has {word_counts.shape[0]} rows and {word_counts.shape[1]} columns')\n",
    "\n",
    "# Get the words from the vector model\n",
    "feature_names = vector_model.get_feature_names_out()\n",
    "\n",
    "# Convert the word counts back into a dataframe\n",
    "word_count_df = pd.DataFrame(word_counts, columns=feature_names)\n",
    "\n",
    "# Take a look...\n",
    "word_count_df.head()"
   ]
  },
  {
   "cell_type": "markdown",
   "metadata": {},
   "source": [
    "### 4.2. Word count distribution"
   ]
  },
  {
   "cell_type": "code",
   "execution_count": 18,
   "metadata": {},
   "outputs": [
    {
     "name": "stdout",
     "output_type": "stream",
     "text": [
      "Word count min: 1\n",
      "Word count max: 429\n"
     ]
    },
    {
     "data": {
      "image/png": "[encoded data removed]",
      "text/plain": [
       "<Figure size 640x480 with 1 Axes>"
      ]
     },
     "metadata": {},
     "output_type": "display_data"
    }
   ],
   "source": [
    "word_counts = word_count_df.sum().tolist()\n",
    "\n",
    "print(f'Word count min: {min(word_counts)}')\n",
    "print(f'Word count max: {max(word_counts)}')\n",
    "\n",
    "plt.title('Word count distribution')\n",
    "plt.xlabel('Count')\n",
    "plt.ylabel('Words')\n",
    "plt.hist(word_counts, bins=30, color='black')\n",
    "plt.yscale('log')\n",
    "plt.show()"
   ]
  },
  {
   "cell_type": "markdown",
   "metadata": {},
   "source": [
    "### 4.3. Feature selection"
   ]
  },
  {
   "cell_type": "code",
   "execution_count": 19,
   "metadata": {},
   "outputs": [
    {
     "name": "stdout",
     "output_type": "stream",
     "text": [
      "<class 'pandas.core.frame.DataFrame'>\n",
      "RangeIndex: 885 entries, 0 to 884\n",
      "Columns: 838 entries, ability to žŕľ\n",
      "dtypes: int64(838)\n",
      "memory usage: 5.7 MB\n"
     ]
    }
   ],
   "source": [
    "total_word_count_df = pd.DataFrame({\n",
    "    'word': word_count_df.columns,\n",
    "    'count': word_counts\n",
    "})\n",
    "\n",
    "trimmed_word_count_df = total_word_count_df[(total_word_count_df['count'] > 3) & (total_word_count_df['count'] < 150)]\n",
    "\n",
    "word_count_df = word_count_df[trimmed_word_count_df['word'].tolist()]\n",
    "word_count_df.reset_index(drop=True, inplace=True)\n",
    "word_count_df.info()"
   ]
  },
  {
   "cell_type": "code",
   "execution_count": 20,
   "metadata": {},
   "outputs": [
    {
     "name": "stdout",
     "output_type": "stream",
     "text": [
      "Word count min: 4\n",
      "Word count max: 146\n"
     ]
    },
    {
     "data": {
      "image/png": "[encoded data removed]",
      "text/plain": [
       "<Figure size 640x480 with 1 Axes>"
      ]
     },
     "metadata": {},
     "output_type": "display_data"
    }
   ],
   "source": [
    "word_counts = word_count_df.sum().tolist()\n",
    "\n",
    "print(f'Word count min: {min(word_counts)}')\n",
    "print(f'Word count max: {max(word_counts)}')\n",
    "\n",
    "plt.title('Trimmed word count distribution')\n",
    "plt.xlabel('Count')\n",
    "plt.ylabel('Words')\n",
    "plt.hist(word_counts, bins=30, color='black')\n",
    "plt.yscale('log')\n",
    "plt.show()"
   ]
  },
  {
   "cell_type": "markdown",
   "metadata": {},
   "source": [
    "## 5. Data preparation"
   ]
  },
  {
   "cell_type": "code",
   "execution_count": 21,
   "metadata": {},
   "outputs": [],
   "source": [
    "# Add the label back\n",
    "word_count_df['polarity'] = data_df['polarity'].copy()\n",
    "\n",
    "# Train test split\n",
    "training_df, testing_df = train_test_split(word_count_df, test_size=0.3)"
   ]
  },
  {
   "cell_type": "markdown",
   "metadata": {},
   "source": [
    "## 6. Model comparison\n",
    "### 6.1. Standard Scikit-learn implementations"
   ]
  },
  {
   "cell_type": "code",
   "execution_count": 25,
   "metadata": {},
   "outputs": [],
   "source": [
    "models = {\n",
    "    'LogisticRegression': LogisticRegression(max_iter=500, random_state=RANDOM_SEED),\n",
    "    'MultinomialNB': MultinomialNB(),\n",
    "    'GaussianNB': GaussianNB(),\n",
    "    'BernoulliNB': BernoulliNB(),\n",
    "    'ComplementNB': ComplementNB()\n",
    "}\n",
    "\n",
    "cross_val_scores = funcs.cross_validate_models(\n",
    "    models,\n",
    "    training_df,\n",
    "    label='polarity',\n",
    "    cv=StratifiedShuffleSplit(\n",
    "        n_splits=CV_FOLDS,\n",
    "        test_size=CV_SPLIT,\n",
    "        random_state=RANDOM_SEED\n",
    "    )\n",
    ")"
   ]
  },
  {
   "cell_type": "markdown",
   "metadata": {},
   "source": [
    "### 6.2. PCA + multinomial naive Bayes\n",
    "\n",
    "#### 6.2.1. Component number & variance explained"
   ]
  },
  {
   "cell_type": "code",
   "execution_count": 26,
   "metadata": {},
   "outputs": [
    {
     "name": "stdout",
     "output_type": "stream",
     "text": [
      "Calculating 619 components...\r"
     ]
    },
    {
     "data": {
      "image/png": "[encoded data removed]",
      "text/plain": [
       "<Figure size 640x480 with 1 Axes>"
      ]
     },
     "metadata": {},
     "output_type": "display_data"
    }
   ],
   "source": [
    "components_list = np.linspace(1, training_df.shape[0], 100, dtype=int)\n",
    "\n",
    "n_components = []\n",
    "variance = []\n",
    "\n",
    "for components in components_list:\n",
    "    print(f'Calculating {components} components...', end='\\r')\n",
    "    \n",
    "    pca = PCA(n_components=components)\n",
    "    pca.fit(training_df.drop('polarity', axis=1))\n",
    "\n",
    "    n_components.append(components)\n",
    "    variance.append(np.sum(pca.explained_variance_ratio_))\n",
    "\n",
    "plt.title('PCA explained variance ratio')\n",
    "plt.xlabel('Number of components')\n",
    "plt.ylabel('Explained variance ratio')\n",
    "plt.plot(n_components, variance, color='black')\n",
    "plt.show()"
   ]
  },
  {
   "cell_type": "markdown",
   "metadata": {},
   "source": [
    "#### 6.2.2. Dimensionality reduction/classifier pipeline optimization"
   ]
  },
  {
   "cell_type": "code",
   "execution_count": null,
   "metadata": {},
   "outputs": [],
   "source": [
    "pca = PCA()\n",
    "scaler = MinMaxScaler()\n",
    "mnb = MultinomialNB()\n",
    "\n",
    "pipe = Pipeline(steps=[('PCA', pca), ('scaler', scaler), ('mnb', mnb)])\n",
    "\n",
    "cv_size = int(training_df.shape[0] / CV_SPLIT)\n",
    "components_list = list(range(1, cv_size))\n",
    "\n",
    "param_grid = {\n",
    "    \"PCA__n_components\": components_list,\n",
    "}\n",
    "\n",
    "search = GridSearchCV(\n",
    "    pipe,\n",
    "    param_grid,\n",
    "    n_jobs=-1,\n",
    "    cv=StratifiedShuffleSplit(\n",
    "        n_splits=CV_FOLDS,\n",
    "        test_size=CV_SPLIT,\n",
    "        random_state=RANDOM_SEED\n",
    "    )\n",
    ")\n",
    "\n",
    "search_results = search.fit(\n",
    "    training_df.drop('polarity', axis=1).copy(),\n",
    "    training_df['polarity'].copy()\n",
    ")\n",
    "\n",
    "best_model = search_results.best_estimator_\n",
    "winning_hyperparameters = search_results.best_params_\n",
    "\n",
    "print(winning_hyperparameters)"
   ]
  },
  {
   "cell_type": "code",
   "execution_count": 28,
   "metadata": {},
   "outputs": [
    {
     "name": "stdout",
     "output_type": "stream",
     "text": [
      "Cross-validation accuracy: 65.6 +/- 0.7%\n"
     ]
    }
   ],
   "source": [
    "scores = cross_val_score(\n",
    "    best_model,\n",
    "    training_df.drop('polarity', axis=1).copy(),\n",
    "    training_df['polarity'].copy(),\n",
    "    cv=CV_FOLDS,\n",
    "    n_jobs=-1\n",
    ")\n",
    "\n",
    "cross_val_scores['Model'].extend(['PCA + MultinomialNB']*len(scores))\n",
    "cross_val_scores['Score'].extend(scores*100)\n",
    "\n",
    "print(f'Cross-validation accuracy: {np.mean(scores)*100:.1f} +/- {np.std(scores)*100:.1f}%')"
   ]
  },
  {
   "cell_type": "markdown",
   "metadata": {},
   "source": [
    "### 6.3. Feature agglomeration + multinomial naive Bayes\n",
    "\n",
    "#### 6.3.1. Feature cross-correlation distribution"
   ]
  },
  {
   "cell_type": "code",
   "execution_count": null,
   "metadata": {},
   "outputs": [],
   "source": [
    "corrs = training_df.drop('polarity', axis=1).corr(method='spearman')\n",
    "upper_right_entries = np.triu_indices(len(corrs), 1)\n",
    "corrs = corrs.values[upper_right_entries]\n",
    "corrs = corrs.flatten()\n",
    "\n",
    "plt.title('Feature correlation distribution')\n",
    "plt.hist(corrs, bins=30, color='black')\n",
    "plt.xlabel('Spearman correlation coefficient')\n",
    "plt.ylabel('Feature pairs')\n",
    "plt.yscale('log')\n",
    "plt.show()"
   ]
  },
  {
   "cell_type": "markdown",
   "metadata": {},
   "source": [
    "#### 6.3.2. Feature agglomeration clustering"
   ]
  },
  {
   "cell_type": "code",
   "execution_count": null,
   "metadata": {},
   "outputs": [],
   "source": [
    "combiner = FeatureAgglomeration(n_clusters=50)\n",
    "\n",
    "combined_features = combiner.fit_transform(\n",
    "    training_df.drop('polarity', axis=1).copy(),\n",
    "    training_df['polarity'].copy()\n",
    ")\n",
    "\n",
    "combined_features = pd.DataFrame(combined_features)\n",
    "\n",
    "corrs = combined_features.corr(method='spearman')\n",
    "upper_right_entries = np.triu_indices(len(corrs), 1)\n",
    "corrs = corrs.values[upper_right_entries]\n",
    "corrs = corrs.flatten()\n",
    "\n",
    "plt.title('Feature correlation distribution')\n",
    "plt.hist(corrs, bins=30, color='black')\n",
    "plt.xlabel('Spearman correlation coefficient')\n",
    "plt.ylabel('Feature pairs')\n",
    "plt.yscale('log')\n",
    "plt.show()"
   ]
  },
  {
   "cell_type": "markdown",
   "metadata": {},
   "source": [
    "#### 6.3.3. Agglomeration/classification pipeline optimization"
   ]
  },
  {
   "cell_type": "code",
   "execution_count": null,
   "metadata": {},
   "outputs": [],
   "source": [
    "combiner = FeatureAgglomeration()\n",
    "mnb = MultinomialNB()\n",
    "\n",
    "pipe = Pipeline(steps=[('combiner', combiner), ('mnb', mnb)])\n",
    "\n",
    "n_features = training_df.drop('polarity', axis=1).shape[1]\n",
    "features = list(range(1, n_features + 1))\n",
    "\n",
    "param_grid = {\n",
    "    'combiner__n_clusters': features,\n",
    "    'combiner__linkage': ['ward', 'complete', 'average', 'single']\n",
    "}\n",
    "\n",
    "search = GridSearchCV(\n",
    "    pipe,\n",
    "    param_grid,\n",
    "    n_jobs=-1,\n",
    "    cv=StratifiedShuffleSplit(\n",
    "        n_splits=CV_FOLDS,\n",
    "        test_size=CV_SPLIT,\n",
    "        random_state=RANDOM_SEED\n",
    "    )\n",
    ")\n",
    "\n",
    "search_results = search.fit(\n",
    "    training_df.drop('polarity', axis=1).copy(),\n",
    "    training_df['polarity'].copy()\n",
    ")\n",
    "\n",
    "best_model = search_results.best_estimator_\n",
    "winning_hyperparameters = search_results.best_params_\n",
    "\n",
    "print(winning_hyperparameters)"
   ]
  },
  {
   "cell_type": "code",
   "execution_count": null,
   "metadata": {},
   "outputs": [],
   "source": [
    "scores = cross_val_score(\n",
    "    best_model,\n",
    "    training_df.drop('polarity', axis=1).copy(),\n",
    "    training_df['polarity'].copy(),\n",
    "    cv=7,\n",
    "    n_jobs=-1\n",
    ")\n",
    "\n",
    "cross_val_scores['Model'].extend(['agglomeration +\\nMultinomialNB']*len(scores))\n",
    "cross_val_scores['Score'].extend(scores*100)\n",
    "\n",
    "print(f'Cross-validation accuracy: {np.mean(scores)*100:.1f} +/- {np.std(scores)*100:.1f}%')"
   ]
  },
  {
   "cell_type": "markdown",
   "metadata": {},
   "source": [
    "### 6.4. Cross-validation performance"
   ]
  },
  {
   "cell_type": "code",
   "execution_count": null,
   "metadata": {},
   "outputs": [],
   "source": [
    "sns.boxplot(pd.DataFrame.from_dict(cross_val_scores), x='Model', y='Score')\n",
    "plt.title('Model cross-validation performance comparison')\n",
    "plt.ylabel('Accuracy (%)')\n",
    "plt.xticks(rotation=25, ha='right')\n",
    "plt.show()"
   ]
  },
  {
   "cell_type": "markdown",
   "metadata": {},
   "source": [
    "## 7. Final model evaluation"
   ]
  },
  {
   "cell_type": "code",
   "execution_count": null,
   "metadata": {},
   "outputs": [],
   "source": [
    "model = MultinomialNB()\n",
    "model.fit(training_df.drop('polarity', axis=1), training_df['polarity'])\n",
    "\n",
    "testing_predictions = model.predict(testing_df.drop('polarity', axis=1))\n",
    "accuracy = accuracy_score(testing_predictions, testing_df['polarity'])*100\n",
    "\n",
    "# Plot the confusion matrix\n",
    "cm = confusion_matrix(testing_df['polarity'], testing_predictions, normalize='true')\n",
    "cm_disp = ConfusionMatrixDisplay(confusion_matrix=cm)\n",
    "_ = cm_disp.plot()\n",
    "\n",
    "plt.title(f'Test set performance\\noverall accuracy: {accuracy:.1f}%')\n",
    "plt.xlabel('Predicted outcome')\n",
    "plt.ylabel('True outcome')\n",
    "plt.show()"
   ]
  },
  {
   "cell_type": "code",
   "execution_count": null,
   "metadata": {},
   "outputs": [],
   "source": []
  }
 ],
 "metadata": {
  "kernelspec": {
   "display_name": "Python 3",
   "language": "python",
   "name": "python3"
  },
  "language_info": {
   "codemirror_mode": {
    "name": "ipython",
    "version": 3
   },
   "file_extension": ".py",
   "mimetype": "text/x-python",
   "name": "python",
   "nbconvert_exporter": "python",
   "pygments_lexer": "ipython3",
   "version": "3.11.4"
  }
 },
 "nbformat": 4,
 "nbformat_minor": 2
}
