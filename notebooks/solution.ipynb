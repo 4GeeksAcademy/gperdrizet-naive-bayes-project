{
 "cells": [
  {
   "cell_type": "markdown",
   "metadata": {},
   "source": [
    "# Naive Bayes classifier: Google Play Store reviews\n",
    "\n",
    "## Notebook set-up"
   ]
  },
  {
   "cell_type": "code",
   "execution_count": 1,
   "metadata": {},
   "outputs": [],
   "source": [
    "import numpy as np\n",
    "import pandas as pd\n",
    "import matplotlib.pyplot as plt\n",
    "import seaborn as sns\n",
    "from sklearn.model_selection import train_test_split, cross_val_score\n",
    "from sklearn.feature_extraction.text import CountVectorizer\n",
    "from sklearn.linear_model import LogisticRegression\n",
    "from sklearn.metrics import accuracy_score, confusion_matrix, ConfusionMatrixDisplay\n",
    "from sklearn.naive_bayes import MultinomialNB, GaussianNB, BernoulliNB"
   ]
  },
  {
   "cell_type": "markdown",
   "metadata": {},
   "source": [
    "## 1. Data preparation\n",
    "\n",
    "### 1.1. Load data from URL"
   ]
  },
  {
   "cell_type": "code",
   "execution_count": 2,
   "metadata": {},
   "outputs": [],
   "source": [
    "# Load the data from the URL provided in the project tutorial\n",
    "data_df=pd.read_csv('https://raw.githubusercontent.com/4GeeksAcademy/naive-bayes-project-tutorial/main/playstore_reviews.csv')"
   ]
  },
  {
   "cell_type": "markdown",
   "metadata": {},
   "source": [
    "### 1.2. Inspect"
   ]
  },
  {
   "cell_type": "code",
   "execution_count": 3,
   "metadata": {},
   "outputs": [
    {
     "data": {
      "text/html": [
       "<div>\n",
       "<style scoped>\n",
       "    .dataframe tbody tr th:only-of-type {\n",
       "        vertical-align: middle;\n",
       "    }\n",
       "\n",
       "    .dataframe tbody tr th {\n",
       "        vertical-align: top;\n",
       "    }\n",
       "\n",
       "    .dataframe thead th {\n",
       "        text-align: right;\n",
       "    }\n",
       "</style>\n",
       "<table border=\"1\" class=\"dataframe\">\n",
       "  <thead>\n",
       "    <tr style=\"text-align: right;\">\n",
       "      <th></th>\n",
       "      <th>package_name</th>\n",
       "      <th>review</th>\n",
       "      <th>polarity</th>\n",
       "    </tr>\n",
       "  </thead>\n",
       "  <tbody>\n",
       "    <tr>\n",
       "      <th>0</th>\n",
       "      <td>com.facebook.katana</td>\n",
       "      <td>privacy at least put some option appear offli...</td>\n",
       "      <td>0</td>\n",
       "    </tr>\n",
       "    <tr>\n",
       "      <th>1</th>\n",
       "      <td>com.facebook.katana</td>\n",
       "      <td>messenger issues ever since the last update, ...</td>\n",
       "      <td>0</td>\n",
       "    </tr>\n",
       "    <tr>\n",
       "      <th>2</th>\n",
       "      <td>com.facebook.katana</td>\n",
       "      <td>profile any time my wife or anybody has more ...</td>\n",
       "      <td>0</td>\n",
       "    </tr>\n",
       "    <tr>\n",
       "      <th>3</th>\n",
       "      <td>com.facebook.katana</td>\n",
       "      <td>the new features suck for those of us who don...</td>\n",
       "      <td>0</td>\n",
       "    </tr>\n",
       "    <tr>\n",
       "      <th>4</th>\n",
       "      <td>com.facebook.katana</td>\n",
       "      <td>forced reload on uploading pic on replying co...</td>\n",
       "      <td>0</td>\n",
       "    </tr>\n",
       "  </tbody>\n",
       "</table>\n",
       "</div>"
      ],
      "text/plain": [
       "          package_name                                             review  \\\n",
       "0  com.facebook.katana   privacy at least put some option appear offli...   \n",
       "1  com.facebook.katana   messenger issues ever since the last update, ...   \n",
       "2  com.facebook.katana   profile any time my wife or anybody has more ...   \n",
       "3  com.facebook.katana   the new features suck for those of us who don...   \n",
       "4  com.facebook.katana   forced reload on uploading pic on replying co...   \n",
       "\n",
       "   polarity  \n",
       "0         0  \n",
       "1         0  \n",
       "2         0  \n",
       "3         0  \n",
       "4         0  "
      ]
     },
     "execution_count": 3,
     "metadata": {},
     "output_type": "execute_result"
    }
   ],
   "source": [
    "data_df.head()"
   ]
  },
  {
   "cell_type": "markdown",
   "metadata": {},
   "source": [
    "### 1.3. Train-test split"
   ]
  },
  {
   "cell_type": "code",
   "execution_count": 4,
   "metadata": {},
   "outputs": [],
   "source": [
    "# Split the data into training and testing features and labels\n",
    "training_df, testing_df=train_test_split(\n",
    "    data_df,\n",
    "    test_size=0.3,\n",
    "    random_state=315\n",
    ")"
   ]
  },
  {
   "cell_type": "markdown",
   "metadata": {},
   "source": [
    "### 1.4. Data encoding"
   ]
  },
  {
   "cell_type": "code",
   "execution_count": 5,
   "metadata": {},
   "outputs": [
    {
     "name": "stdout",
     "output_type": "stream",
     "text": [
      "Word count matrix has 623 rows and 3012 columns\n"
     ]
    }
   ],
   "source": [
    "# Get just the reviews from the training data\n",
    "training_reviews=training_df['review']\n",
    "testing_reviews=testing_df['review']\n",
    "\n",
    "# Fit the vectorizer and transform the training reviews into word counts\n",
    "vector_model=CountVectorizer(stop_words=\"english\")\n",
    "vector_model.fit(training_reviews)\n",
    "training_word_counts=vector_model.transform(training_reviews).toarray()\n",
    "testing_word_counts=vector_model.transform(testing_reviews).toarray()\n",
    "\n",
    "print(f'Word count matrix has {training_word_counts.shape[0]} rows and {training_word_counts.shape[1]} columns')"
   ]
  },
  {
   "cell_type": "code",
   "execution_count": 6,
   "metadata": {},
   "outputs": [
    {
     "data": {
      "text/html": [
       "<div>\n",
       "<style scoped>\n",
       "    .dataframe tbody tr th:only-of-type {\n",
       "        vertical-align: middle;\n",
       "    }\n",
       "\n",
       "    .dataframe tbody tr th {\n",
       "        vertical-align: top;\n",
       "    }\n",
       "\n",
       "    .dataframe thead th {\n",
       "        text-align: right;\n",
       "    }\n",
       "</style>\n",
       "<table border=\"1\" class=\"dataframe\">\n",
       "  <thead>\n",
       "    <tr style=\"text-align: right;\">\n",
       "      <th></th>\n",
       "      <th>000</th>\n",
       "      <th>04</th>\n",
       "      <th>0x</th>\n",
       "      <th>10</th>\n",
       "      <th>100</th>\n",
       "      <th>101</th>\n",
       "      <th>11</th>\n",
       "      <th>1186</th>\n",
       "      <th>12</th>\n",
       "      <th>125</th>\n",
       "      <th>...</th>\n",
       "      <th>śŕ</th>\n",
       "      <th>şŕ</th>\n",
       "      <th>šŕ</th>\n",
       "      <th>šŕľ</th>\n",
       "      <th>źŕ</th>\n",
       "      <th>żŕ</th>\n",
       "      <th>żŕľ</th>\n",
       "      <th>žŕ</th>\n",
       "      <th>žŕľ</th>\n",
       "      <th>ˇŕ</th>\n",
       "    </tr>\n",
       "  </thead>\n",
       "  <tbody>\n",
       "    <tr>\n",
       "      <th>0</th>\n",
       "      <td>0</td>\n",
       "      <td>0</td>\n",
       "      <td>0</td>\n",
       "      <td>0</td>\n",
       "      <td>0</td>\n",
       "      <td>0</td>\n",
       "      <td>0</td>\n",
       "      <td>0</td>\n",
       "      <td>0</td>\n",
       "      <td>0</td>\n",
       "      <td>...</td>\n",
       "      <td>0</td>\n",
       "      <td>0</td>\n",
       "      <td>0</td>\n",
       "      <td>0</td>\n",
       "      <td>0</td>\n",
       "      <td>0</td>\n",
       "      <td>0</td>\n",
       "      <td>0</td>\n",
       "      <td>0</td>\n",
       "      <td>0</td>\n",
       "    </tr>\n",
       "    <tr>\n",
       "      <th>1</th>\n",
       "      <td>0</td>\n",
       "      <td>0</td>\n",
       "      <td>0</td>\n",
       "      <td>0</td>\n",
       "      <td>0</td>\n",
       "      <td>0</td>\n",
       "      <td>0</td>\n",
       "      <td>0</td>\n",
       "      <td>0</td>\n",
       "      <td>0</td>\n",
       "      <td>...</td>\n",
       "      <td>0</td>\n",
       "      <td>0</td>\n",
       "      <td>0</td>\n",
       "      <td>0</td>\n",
       "      <td>0</td>\n",
       "      <td>0</td>\n",
       "      <td>0</td>\n",
       "      <td>0</td>\n",
       "      <td>0</td>\n",
       "      <td>0</td>\n",
       "    </tr>\n",
       "    <tr>\n",
       "      <th>2</th>\n",
       "      <td>0</td>\n",
       "      <td>0</td>\n",
       "      <td>0</td>\n",
       "      <td>0</td>\n",
       "      <td>0</td>\n",
       "      <td>0</td>\n",
       "      <td>0</td>\n",
       "      <td>0</td>\n",
       "      <td>0</td>\n",
       "      <td>0</td>\n",
       "      <td>...</td>\n",
       "      <td>0</td>\n",
       "      <td>0</td>\n",
       "      <td>0</td>\n",
       "      <td>0</td>\n",
       "      <td>0</td>\n",
       "      <td>0</td>\n",
       "      <td>0</td>\n",
       "      <td>0</td>\n",
       "      <td>0</td>\n",
       "      <td>0</td>\n",
       "    </tr>\n",
       "    <tr>\n",
       "      <th>3</th>\n",
       "      <td>0</td>\n",
       "      <td>0</td>\n",
       "      <td>0</td>\n",
       "      <td>0</td>\n",
       "      <td>0</td>\n",
       "      <td>0</td>\n",
       "      <td>0</td>\n",
       "      <td>0</td>\n",
       "      <td>0</td>\n",
       "      <td>0</td>\n",
       "      <td>...</td>\n",
       "      <td>0</td>\n",
       "      <td>0</td>\n",
       "      <td>0</td>\n",
       "      <td>0</td>\n",
       "      <td>0</td>\n",
       "      <td>0</td>\n",
       "      <td>0</td>\n",
       "      <td>0</td>\n",
       "      <td>0</td>\n",
       "      <td>0</td>\n",
       "    </tr>\n",
       "    <tr>\n",
       "      <th>4</th>\n",
       "      <td>0</td>\n",
       "      <td>0</td>\n",
       "      <td>0</td>\n",
       "      <td>0</td>\n",
       "      <td>0</td>\n",
       "      <td>0</td>\n",
       "      <td>0</td>\n",
       "      <td>0</td>\n",
       "      <td>0</td>\n",
       "      <td>0</td>\n",
       "      <td>...</td>\n",
       "      <td>0</td>\n",
       "      <td>0</td>\n",
       "      <td>0</td>\n",
       "      <td>0</td>\n",
       "      <td>0</td>\n",
       "      <td>0</td>\n",
       "      <td>0</td>\n",
       "      <td>0</td>\n",
       "      <td>0</td>\n",
       "      <td>0</td>\n",
       "    </tr>\n",
       "  </tbody>\n",
       "</table>\n",
       "<p>5 rows × 3012 columns</p>\n",
       "</div>"
      ],
      "text/plain": [
       "   000  04  0x  10  100  101  11  1186  12  125  ...  śŕ  şŕ  šŕ  šŕľ  źŕ  żŕ  \\\n",
       "0    0   0   0   0    0    0   0     0   0    0  ...   0   0   0    0   0   0   \n",
       "1    0   0   0   0    0    0   0     0   0    0  ...   0   0   0    0   0   0   \n",
       "2    0   0   0   0    0    0   0     0   0    0  ...   0   0   0    0   0   0   \n",
       "3    0   0   0   0    0    0   0     0   0    0  ...   0   0   0    0   0   0   \n",
       "4    0   0   0   0    0    0   0     0   0    0  ...   0   0   0    0   0   0   \n",
       "\n",
       "   żŕľ  žŕ  žŕľ  ˇŕ  \n",
       "0    0   0    0   0  \n",
       "1    0   0    0   0  \n",
       "2    0   0    0   0  \n",
       "3    0   0    0   0  \n",
       "4    0   0    0   0  \n",
       "\n",
       "[5 rows x 3012 columns]"
      ]
     },
     "execution_count": 6,
     "metadata": {},
     "output_type": "execute_result"
    }
   ],
   "source": [
    "# Get the words from the vector model\n",
    "feature_names=vector_model.get_feature_names_out()\n",
    "\n",
    "# Convert the word counts back into a dataframe\n",
    "training_word_counts=pd.DataFrame(training_word_counts, columns=feature_names)\n",
    "testing_word_counts=pd.DataFrame(testing_word_counts, columns=feature_names)\n",
    "\n",
    "# Take a look...\n",
    "training_word_counts.head()"
   ]
  },
  {
   "cell_type": "markdown",
   "metadata": {},
   "source": [
    "## 2. EDA\n",
    "\n",
    "### 2.1. Baseline model performance"
   ]
  },
  {
   "cell_type": "code",
   "execution_count": 7,
   "metadata": {},
   "outputs": [
    {
     "data": {
      "text/plain": [
       "polarity\n",
       "0    414\n",
       "1    209\n",
       "Name: count, dtype: int64"
      ]
     },
     "execution_count": 7,
     "metadata": {},
     "output_type": "execute_result"
    }
   ],
   "source": [
    "training_df['polarity'].value_counts()"
   ]
  },
  {
   "cell_type": "code",
   "execution_count": 8,
   "metadata": {},
   "outputs": [
    {
     "name": "stdout",
     "output_type": "stream",
     "text": [
      "Testing accuracy of constant \"0\" model: 63.4%\n"
     ]
    }
   ],
   "source": [
    "# Accuracy for constant '0' model\n",
    "accuracy=((len(testing_df) - sum(testing_df['polarity'])) / len(testing_df))*100\n",
    "print(f'Testing accuracy of constant \"0\" model: {accuracy:.1f}%')"
   ]
  },
  {
   "cell_type": "code",
   "execution_count": 9,
   "metadata": {},
   "outputs": [
    {
     "name": "stdout",
     "output_type": "stream",
     "text": [
      "Testing accuracy of logistic regression model: 78.4%\n"
     ]
    }
   ],
   "source": [
    "# Accuracy for simple logistic regression model\n",
    "model=LogisticRegression()\n",
    "model.fit(training_word_counts, training_df['polarity'])\n",
    "\n",
    "accuracy=accuracy_score(\n",
    "    model.predict(testing_word_counts),\n",
    "    testing_df['polarity']\n",
    ")\n",
    "\n",
    "print(f'Testing accuracy of logistic regression model: {accuracy*100:.1f}%')"
   ]
  },
  {
   "cell_type": "markdown",
   "metadata": {},
   "source": [
    "### 2.2. Review length distribution"
   ]
  },
  {
   "cell_type": "code",
   "execution_count": 10,
   "metadata": {},
   "outputs": [
    {
     "data": {
      "image/png": "[encoded data removed]",
      "text/plain": [
       "<Figure size 640x480 with 1 Axes>"
      ]
     },
     "metadata": {},
     "output_type": "display_data"
    },
    {
     "name": "stdout",
     "output_type": "stream",
     "text": [
      "Review length mean: 227\n",
      "Review length min: 8\n",
      "Review length max: 910\n"
     ]
    }
   ],
   "source": [
    "lengths=training_df['review'].str.len().tolist()\n",
    "\n",
    "plt.title('Review length distribution')\n",
    "plt.xlabel('Characters')\n",
    "plt.ylabel('Reviews')\n",
    "plt.hist(lengths, bins=30, color='black')\n",
    "plt.show()\n",
    "\n",
    "print(f'Review length mean: {np.mean(lengths):.0f}')\n",
    "print(f'Review length min: {min(lengths):.0f}')\n",
    "print(f'Review length max: {max(lengths):.0f}')"
   ]
  },
  {
   "cell_type": "markdown",
   "metadata": {},
   "source": [
    "#### 2.2.1. Long reviews"
   ]
  },
  {
   "cell_type": "code",
   "execution_count": 11,
   "metadata": {},
   "outputs": [
    {
     "name": "stdout",
     "output_type": "stream",
     "text": [
      "  ătoo slow loading webclips!!! ăno pdf support at all... (even simpler apps do that!) ă web pages that are clipped do not adjust to current window size automatically when window is shrunk or expanded, (any program does this...geez). ă highlighting? needs more colors instead of brown mustard yellow. no customer support responses either, evernote must have been taken over by students. it's not even fun to use anymore because it is slow as hell.  this is especially for serious business users. any five star ratings down here must have been given by employees under different themes. this program has really retarded over the years. they need to stick to improving their bread and butter instead of selling side junk and features that are useless. well they got my money this time, so i have to put up with it for a few more months. the lack of pdf support really is terrible for a program like this.\n"
     ]
    }
   ],
   "source": [
    "training_df['review_length']=lengths\n",
    "long_reviews=training_df[training_df['review_length'] > 600]\n",
    "\n",
    "print(long_reviews['review'].iloc[0])"
   ]
  },
  {
   "cell_type": "code",
   "execution_count": 12,
   "metadata": {},
   "outputs": [
    {
     "name": "stdout",
     "output_type": "stream",
     "text": [
      "  not since the update i don't.                                  update:- it is very slow on both data (uk ee network) and wifi (all of home via bt /work network/london underground virgin network) on all devices. version number is 13.0.2036.98649 on each device.  practically unusable at present and everything was fine before upgrading.  reading other comments i'm far from the only one having problems. high and low quality images helps but it is still worse than before the upgrade.  and just discovered that previously a double tap enlarged the text sufficiently to make it readable.  now it enlarges it a tiny amount but pinch and zoom is still required.    why did you do this?  the good old adage 'if it ain't broke don't fix it absolutely comes to mind.\n"
     ]
    }
   ],
   "source": [
    "print(long_reviews['review'].iloc[1])"
   ]
  },
  {
   "cell_type": "code",
   "execution_count": 13,
   "metadata": {},
   "outputs": [
    {
     "name": "stdout",
     "output_type": "stream",
     "text": [
      " bait and switch i purchased my 3rd samsung tablet with  advertisement of free gifts, one of them being 48 additional gb cloud storage for 2 years.  the 2nd samsung tablet i bought also had this free gift and it was a nightmare to get samsung and dropbox to honor it.  so, after buying this 3rd high end tablet with the same claim of the free 48gb for 2 years in the fine print, which you can only see after purchasing the tablet, dropbox only honors the offer on the first device you purchased and you are disqualified for all future devices.  this is sleazy and bait and switch.  free= not subject to any compensation, encumbrance, repayment in kind, etc.  because of this bait and switch advertising on the part of samsung and dropbox i suggest you really find out what kind of company dropbox is before using their services.\n"
     ]
    }
   ],
   "source": [
    "print(long_reviews['review'].iloc[2])"
   ]
  },
  {
   "cell_type": "markdown",
   "metadata": {},
   "source": [
    "#### 2.2.2. Short reviews"
   ]
  },
  {
   "cell_type": "code",
   "execution_count": 14,
   "metadata": {},
   "outputs": [
    {
     "data": {
      "text/html": [
       "<div>\n",
       "<style scoped>\n",
       "    .dataframe tbody tr th:only-of-type {\n",
       "        vertical-align: middle;\n",
       "    }\n",
       "\n",
       "    .dataframe tbody tr th {\n",
       "        vertical-align: top;\n",
       "    }\n",
       "\n",
       "    .dataframe thead th {\n",
       "        text-align: right;\n",
       "    }\n",
       "</style>\n",
       "<table border=\"1\" class=\"dataframe\">\n",
       "  <thead>\n",
       "    <tr style=\"text-align: right;\">\n",
       "      <th></th>\n",
       "      <th>package_name</th>\n",
       "      <th>review</th>\n",
       "      <th>polarity</th>\n",
       "      <th>review_length</th>\n",
       "    </tr>\n",
       "  </thead>\n",
       "  <tbody>\n",
       "    <tr>\n",
       "      <th>755</th>\n",
       "      <td>com.shirantech.kantipur</td>\n",
       "      <td>too much pop up add</td>\n",
       "      <td>0</td>\n",
       "      <td>21</td>\n",
       "    </tr>\n",
       "    <tr>\n",
       "      <th>761</th>\n",
       "      <td>com.shirantech.kantipur</td>\n",
       "      <td>aa nice</td>\n",
       "      <td>1</td>\n",
       "      <td>8</td>\n",
       "    </tr>\n",
       "    <tr>\n",
       "      <th>851</th>\n",
       "      <td>com.hamropatro</td>\n",
       "      <td>very useful !</td>\n",
       "      <td>1</td>\n",
       "      <td>15</td>\n",
       "    </tr>\n",
       "    <tr>\n",
       "      <th>511</th>\n",
       "      <td>com.Slack</td>\n",
       "      <td>love new material design</td>\n",
       "      <td>1</td>\n",
       "      <td>26</td>\n",
       "    </tr>\n",
       "    <tr>\n",
       "      <th>840</th>\n",
       "      <td>com.hamropatro</td>\n",
       "      <td>usefully verry  nice app</td>\n",
       "      <td>1</td>\n",
       "      <td>25</td>\n",
       "    </tr>\n",
       "  </tbody>\n",
       "</table>\n",
       "</div>"
      ],
      "text/plain": [
       "                package_name                      review  polarity  \\\n",
       "755  com.shirantech.kantipur         too much pop up add         0   \n",
       "761  com.shirantech.kantipur                     aa nice         1   \n",
       "851           com.hamropatro               very useful !         1   \n",
       "511                com.Slack    love new material design         1   \n",
       "840           com.hamropatro    usefully verry  nice app         1   \n",
       "\n",
       "     review_length  \n",
       "755             21  \n",
       "761              8  \n",
       "851             15  \n",
       "511             26  \n",
       "840             25  "
      ]
     },
     "execution_count": 14,
     "metadata": {},
     "output_type": "execute_result"
    }
   ],
   "source": [
    "short_length=30\n",
    "\n",
    "short_reviews=training_df[training_df['review_length'] < short_length]\n",
    "short_reviews.head()"
   ]
  },
  {
   "cell_type": "markdown",
   "metadata": {},
   "source": [
    "### 2.3. Feature selection"
   ]
  },
  {
   "cell_type": "code",
   "execution_count": 15,
   "metadata": {},
   "outputs": [
    {
     "data": {
      "image/png": "[encoded data removed]",
      "text/plain": [
       "<Figure size 640x480 with 1 Axes>"
      ]
     },
     "metadata": {},
     "output_type": "display_data"
    }
   ],
   "source": [
    "word_counts=training_word_counts.sum().tolist()\n",
    "\n",
    "plt.title('Word count distribution')\n",
    "plt.xlabel('Count')\n",
    "plt.ylabel('Words')\n",
    "plt.hist(word_counts, bins=30, color='black')\n",
    "plt.yscale('log')\n",
    "plt.show()"
   ]
  },
  {
   "cell_type": "markdown",
   "metadata": {},
   "source": [
    "## 3. Model comparison"
   ]
  },
  {
   "cell_type": "code",
   "execution_count": 16,
   "metadata": {},
   "outputs": [],
   "source": [
    "cross_val_scores={\n",
    "    'Model': [],\n",
    "    'Score': []\n",
    "}"
   ]
  },
  {
   "cell_type": "markdown",
   "metadata": {},
   "source": [
    "### 3.1. Multinomial Naive Bayes"
   ]
  },
  {
   "cell_type": "code",
   "execution_count": 17,
   "metadata": {},
   "outputs": [
    {
     "name": "stdout",
     "output_type": "stream",
     "text": [
      "Cross-validation accuracy: 81.5 +/- 4.9%\n"
     ]
    }
   ],
   "source": [
    "scores=cross_val_score(\n",
    "    MultinomialNB(),\n",
    "    training_word_counts,\n",
    "    training_df['polarity'],\n",
    "    cv=7,\n",
    "    n_jobs=-1\n",
    ")\n",
    "\n",
    "cross_val_scores['Model'].extend(['Multinomial Naive Bayes']*len(scores))\n",
    "cross_val_scores['Score'].extend(scores*100)\n",
    "\n",
    "print(f'Cross-validation accuracy: {np.mean(scores)*100:.1f} +/- {np.std(scores)*100:.1f}%')"
   ]
  },
  {
   "cell_type": "markdown",
   "metadata": {},
   "source": [
    "### 3.2. Gaussian Naive Bayes"
   ]
  },
  {
   "cell_type": "code",
   "execution_count": 18,
   "metadata": {},
   "outputs": [
    {
     "name": "stdout",
     "output_type": "stream",
     "text": [
      "Cross-validation accuracy: 75.0 +/- 2.8%\n"
     ]
    }
   ],
   "source": [
    "scores=cross_val_score(\n",
    "    GaussianNB(),\n",
    "    training_word_counts,\n",
    "    training_df['polarity'],\n",
    "    cv=7,\n",
    "    n_jobs=-1\n",
    ")\n",
    "\n",
    "cross_val_scores['Model'].extend(['Gaussian Naive Bayes']*len(scores))\n",
    "cross_val_scores['Score'].extend(scores*100)\n",
    "\n",
    "print(f'Cross-validation accuracy: {np.mean(scores)*100:.1f} +/- {np.std(scores)*100:.1f}%')"
   ]
  },
  {
   "cell_type": "markdown",
   "metadata": {},
   "source": [
    "### 3.3. Bernoulli Naive Bayes"
   ]
  },
  {
   "cell_type": "code",
   "execution_count": 19,
   "metadata": {},
   "outputs": [
    {
     "name": "stdout",
     "output_type": "stream",
     "text": [
      "Cross-validation accuracy: 74.5 +/- 4.1%\n"
     ]
    }
   ],
   "source": [
    "scores=cross_val_score(\n",
    "    BernoulliNB(),\n",
    "    training_word_counts,\n",
    "    training_df['polarity'],\n",
    "    cv=7,\n",
    "    n_jobs=-1\n",
    ")\n",
    "\n",
    "cross_val_scores['Model'].extend(['Bernoulli Naive Bayes']*len(scores))\n",
    "cross_val_scores['Score'].extend(scores*100)\n",
    "\n",
    "print(f'Cross-validation accuracy: {np.mean(scores)*100:.1f} +/- {np.std(scores)*100:.1f}%')"
   ]
  },
  {
   "cell_type": "markdown",
   "metadata": {},
   "source": [
    "### 3.4. Cross-validation performance"
   ]
  },
  {
   "cell_type": "code",
   "execution_count": 20,
   "metadata": {},
   "outputs": [
    {
     "data": {
      "image/png": "[encoded data removed]",
      "text/plain": [
       "<Figure size 640x480 with 1 Axes>"
      ]
     },
     "metadata": {},
     "output_type": "display_data"
    }
   ],
   "source": [
    "sns.boxplot(pd.DataFrame.from_dict(cross_val_scores), x='Model', y='Score')\n",
    "plt.title('Model cross-validation performance comparison')\n",
    "plt.ylabel('Accuracy (%)')\n",
    "plt.xticks(rotation=45)\n",
    "plt.show()"
   ]
  },
  {
   "cell_type": "markdown",
   "metadata": {},
   "source": [
    "## 4. Final model evaluation"
   ]
  },
  {
   "cell_type": "code",
   "execution_count": 21,
   "metadata": {},
   "outputs": [
    {
     "data": {
      "image/png": "[encoded data removed]",
      "text/plain": [
       "<Figure size 640x480 with 2 Axes>"
      ]
     },
     "metadata": {},
     "output_type": "display_data"
    }
   ],
   "source": [
    "model=MultinomialNB()\n",
    "model.fit(training_word_counts, training_df['polarity'])\n",
    "testing_predictions=model.predict(testing_word_counts)\n",
    "accuracy=accuracy_score(testing_predictions, testing_df['polarity'])*100\n",
    "\n",
    "# Plot the confusion matrix\n",
    "cm=confusion_matrix(testing_df['polarity'], testing_predictions, normalize='true')\n",
    "cm_disp=ConfusionMatrixDisplay(confusion_matrix=cm)\n",
    "_=cm_disp.plot()\n",
    "\n",
    "plt.title(f'Test set performance\\noverall accuracy: {accuracy:.1f}%')\n",
    "plt.xlabel('Predicted outcome')\n",
    "plt.ylabel('True outcome')\n",
    "plt.show()"
   ]
  }
 ],
 "metadata": {
  "kernelspec": {
   "display_name": "Python 3",
   "language": "python",
   "name": "python3"
  },
  "language_info": {
   "codemirror_mode": {
    "name": "ipython",
    "version": 3
   },
   "file_extension": ".py",
   "mimetype": "text/x-python",
   "name": "python",
   "nbconvert_exporter": "python",
   "pygments_lexer": "ipython3",
   "version": "3.11.4"
  }
 },
 "nbformat": 4,
 "nbformat_minor": 2
}
