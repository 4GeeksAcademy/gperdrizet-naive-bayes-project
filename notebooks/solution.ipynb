{
 "cells": [
  {
   "cell_type": "markdown",
   "metadata": {},
   "source": [
    "# Naive Bayes classifier: Google Play Store reviews\n",
    "\n",
    "## Project Overview\n",
    "\n",
    "This notebook demonstrates a comprehensive text classification pipeline for sentiment analysis of Google Play Store reviews. We implement and compare multiple Naive Bayes algorithms with advanced feature engineering techniques including dimensionality reduction through PCA and feature agglomeration.\n",
    "\n",
    "**Key Features:**\n",
    "- Advanced text preprocessing with NLTK lemmatization\n",
    "- Comprehensive feature selection and engineering\n",
    "- Multiple Naive Bayes algorithm variants (Multinomial, Gaussian, Bernoulli, Complement)\n",
    "- Dimensionality reduction using PCA and Feature Agglomeration\n",
    "- Rigorous cross-validation and hyperparameter optimization\n",
    "- Performance visualization and model comparison\n",
    "\n",
    "**Dataset:** Google Play Store app reviews with binary sentiment labels (positive/negative)\n",
    "\n",
    "**Goal:** Build an optimized text classifier that can accurately predict review sentiment using Naive Bayes algorithms\n",
    "\n",
    "## Table of Contents\n",
    "\n",
    "1. **Data Loading**\n",
    "   - Load dataset from remote URL\n",
    "   - Save local copy for reproducibility\n",
    "   - Initial data inspection\n",
    "\n",
    "2. **Review Length Distribution**\n",
    "   - Analyze review length patterns\n",
    "   - Identify outliers and quality issues\n",
    "   - Apply data filtering\n",
    "\n",
    "3. **Text Preprocessing**\n",
    "   - Convert to lowercase\n",
    "   - Remove numbers and punctuation  \n",
    "   - Apply lemmatization for word normalization\n",
    "\n",
    "4. **Bag-of-Words Encoding**\n",
    "   - Text vectorization with CountVectorizer\n",
    "   - Word frequency distribution analysis\n",
    "   - Feature selection to reduce dimensionality\n",
    "\n",
    "5. **Data Preparation**\n",
    "   - Train-test split\n",
    "   - Save processed data\n",
    "\n",
    "6. **Model Comparison**\n",
    "   - Standard scikit-learn implementations\n",
    "   - Dimensionality reduction + naive Bayes classifiers\n",
    "   - Cross-validation performance comparison\n",
    "\n",
    "7. **Final Model Evaluation**\n",
    "   - Test set performance\n",
    "   - Confusion matrix analysis\n",
    "   - Model comparison\n",
    "\n",
    "8. **Save Final Models**\n",
    "   - Persist best performing model\n",
    "\n",
    "## Notebook set-up"
   ]
  },
  {
   "cell_type": "code",
   "execution_count": 1,
   "metadata": {},
   "outputs": [
    {
     "name": "stderr",
     "output_type": "stream",
     "text": [
      "[nltk_data] Downloading package punkt_tab to /home/vscode/nltk_data...\n",
      "[nltk_data]   Package punkt_tab is already up-to-date!\n",
      "[nltk_data] Downloading package wordnet to /home/vscode/nltk_data...\n",
      "[nltk_data]   Package wordnet is already up-to-date!\n",
      "[nltk_data] Downloading package words to /home/vscode/nltk_data...\n",
      "[nltk_data]   Package words is already up-to-date!\n"
     ]
    }
   ],
   "source": [
    "# Python standard library imports\n",
    "import pickle\n",
    "import string\n",
    "from pathlib import Path\n",
    "\n",
    "# PyPI imports\n",
    "import nltk\n",
    "import numpy as np\n",
    "import pandas as pd\n",
    "# import seaborn as sns\n",
    "import matplotlib.pyplot as plt\n",
    "from nltk.corpus import words\n",
    "from nltk.stem import WordNetLemmatizer\n",
    "from scipy.stats import randint\n",
    "from sklearn.cluster import FeatureAgglomeration\n",
    "from sklearn.decomposition import PCA\n",
    "from sklearn.model_selection import train_test_split, cross_val_score, GridSearchCV, StratifiedShuffleSplit\n",
    "from sklearn.feature_extraction.text import CountVectorizer\n",
    "from sklearn.feature_selection import RFECV\n",
    "from sklearn.linear_model import LogisticRegression\n",
    "from sklearn.metrics import accuracy_score, confusion_matrix, ConfusionMatrixDisplay\n",
    "from sklearn.naive_bayes import MultinomialNB, GaussianNB, BernoulliNB, ComplementNB\n",
    "from sklearn.pipeline import Pipeline\n",
    "from sklearn.preprocessing import MinMaxScaler\n",
    "\n",
    "# Internal imports\n",
    "import functions as funcs\n",
    "\n",
    "# Download NLTK resources for tokenization and lemmatization\n",
    "nltk.download('punkt_tab')\n",
    "nltk.download('wordnet')\n",
    "nltk.download('words')\n",
    "\n",
    "# Set random seed for reproducibility\n",
    "RANDOM_SEED = 315\n",
    "\n",
    "# Set cross-validation parameters\n",
    "CV_FOLDS = 10\n",
    "CV_SPLIT = 0.5"
   ]
  },
  {
   "cell_type": "markdown",
   "metadata": {},
   "source": [
    "## 1. Data loading\n",
    "\n",
    "This section loads the Google Play Store reviews dataset from a remote URL and saves a local copy for future use. We save the data as a parquet file format for faster loading and better compression compared to CSV.\n",
    "\n",
    "### 1.1. Load data from URL"
   ]
  },
  {
   "cell_type": "code",
   "execution_count": 2,
   "metadata": {},
   "outputs": [],
   "source": [
    "# Load the data from the URL provided in the project tutorial\n",
    "data_df = pd.read_csv('https://raw.githubusercontent.com/4GeeksAcademy/naive-bayes-project-tutorial/main/playstore_reviews.csv')"
   ]
  },
  {
   "cell_type": "markdown",
   "metadata": {},
   "source": [
    "### 1.2. Save a local copy"
   ]
  },
  {
   "cell_type": "code",
   "execution_count": 3,
   "metadata": {},
   "outputs": [],
   "source": [
    "# Create directory for raw data if it doesn't exist\n",
    "Path('../data/raw').mkdir(exist_ok=True, parents=True)\n",
    "\n",
    "# Save raw data as parquet file for faster loading\n",
    "data_df.to_parquet('../data/raw/playstore_reviews.parquet')"
   ]
  },
  {
   "cell_type": "markdown",
   "metadata": {},
   "source": [
    "### 1.3. Inspect"
   ]
  },
  {
   "cell_type": "code",
   "execution_count": 4,
   "metadata": {},
   "outputs": [
    {
     "data": {
      "text/html": [
       "<div>\n",
       "<style scoped>\n",
       "    .dataframe tbody tr th:only-of-type {\n",
       "        vertical-align: middle;\n",
       "    }\n",
       "\n",
       "    .dataframe tbody tr th {\n",
       "        vertical-align: top;\n",
       "    }\n",
       "\n",
       "    .dataframe thead th {\n",
       "        text-align: right;\n",
       "    }\n",
       "</style>\n",
       "<table border=\"1\" class=\"dataframe\">\n",
       "  <thead>\n",
       "    <tr style=\"text-align: right;\">\n",
       "      <th></th>\n",
       "      <th>package_name</th>\n",
       "      <th>review</th>\n",
       "      <th>polarity</th>\n",
       "    </tr>\n",
       "  </thead>\n",
       "  <tbody>\n",
       "    <tr>\n",
       "      <th>0</th>\n",
       "      <td>com.facebook.katana</td>\n",
       "      <td>privacy at least put some option appear offli...</td>\n",
       "      <td>0</td>\n",
       "    </tr>\n",
       "    <tr>\n",
       "      <th>1</th>\n",
       "      <td>com.facebook.katana</td>\n",
       "      <td>messenger issues ever since the last update, ...</td>\n",
       "      <td>0</td>\n",
       "    </tr>\n",
       "    <tr>\n",
       "      <th>2</th>\n",
       "      <td>com.facebook.katana</td>\n",
       "      <td>profile any time my wife or anybody has more ...</td>\n",
       "      <td>0</td>\n",
       "    </tr>\n",
       "    <tr>\n",
       "      <th>3</th>\n",
       "      <td>com.facebook.katana</td>\n",
       "      <td>the new features suck for those of us who don...</td>\n",
       "      <td>0</td>\n",
       "    </tr>\n",
       "    <tr>\n",
       "      <th>4</th>\n",
       "      <td>com.facebook.katana</td>\n",
       "      <td>forced reload on uploading pic on replying co...</td>\n",
       "      <td>0</td>\n",
       "    </tr>\n",
       "  </tbody>\n",
       "</table>\n",
       "</div>"
      ],
      "text/plain": [
       "          package_name                                             review  \\\n",
       "0  com.facebook.katana   privacy at least put some option appear offli...   \n",
       "1  com.facebook.katana   messenger issues ever since the last update, ...   \n",
       "2  com.facebook.katana   profile any time my wife or anybody has more ...   \n",
       "3  com.facebook.katana   the new features suck for those of us who don...   \n",
       "4  com.facebook.katana   forced reload on uploading pic on replying co...   \n",
       "\n",
       "   polarity  \n",
       "0         0  \n",
       "1         0  \n",
       "2         0  \n",
       "3         0  \n",
       "4         0  "
      ]
     },
     "execution_count": 4,
     "metadata": {},
     "output_type": "execute_result"
    }
   ],
   "source": [
    "data_df.head()"
   ]
  },
  {
   "cell_type": "code",
   "execution_count": 5,
   "metadata": {},
   "outputs": [
    {
     "name": "stdout",
     "output_type": "stream",
     "text": [
      "<class 'pandas.core.frame.DataFrame'>\n",
      "RangeIndex: 891 entries, 0 to 890\n",
      "Data columns (total 3 columns):\n",
      " #   Column        Non-Null Count  Dtype \n",
      "---  ------        --------------  ----- \n",
      " 0   package_name  891 non-null    object\n",
      " 1   review        891 non-null    object\n",
      " 2   polarity      891 non-null    int64 \n",
      "dtypes: int64(1), object(2)\n",
      "memory usage: 21.0+ KB\n"
     ]
    }
   ],
   "source": [
    "data_df.info()"
   ]
  },
  {
   "cell_type": "markdown",
   "metadata": {},
   "source": [
    "The dataset contains 891 Google Play Store reviews with 3 columns: package_name (app source url), review text and polarity labels. All reviews have complete data (no missing values), making this a clean dataset ready for text preprocessing.\n",
    "\n",
    "## 2. Review length distribution\n",
    "\n",
    "Understanding the distribution of review lengths helps us identify potential data quality issues. Very short reviews may lack meaningful content, while extremely long reviews might be spam or contain excessive noise. We analyze the length distribution to determine appropriate filtering thresholds."
   ]
  },
  {
   "cell_type": "code",
   "execution_count": 6,
   "metadata": {},
   "outputs": [
    {
     "data": {
      "image/png": "[encoded data removed]",
      "text/plain": [
       "<Figure size 640x480 with 1 Axes>"
      ]
     },
     "metadata": {},
     "output_type": "display_data"
    },
    {
     "name": "stdout",
     "output_type": "stream",
     "text": [
      "Review length mean: 232\n",
      "Review length min: 6\n",
      "Review length max: 910\n"
     ]
    }
   ],
   "source": [
    "# Calculate character length for each review\n",
    "lengths = data_df['review'].str.len().tolist()\n",
    "\n",
    "# Plot histogram of review lengths\n",
    "plt.title('Review length distribution')\n",
    "plt.xlabel('Characters')\n",
    "plt.ylabel('Reviews')\n",
    "plt.hist(lengths, bins=30, color='black')\n",
    "plt.show()\n",
    "\n",
    "# Display summary statistics\n",
    "print(f'Review length mean: {np.mean(lengths):.0f}')\n",
    "print(f'Review length min: {min(lengths):.0f}')\n",
    "print(f'Review length max: {max(lengths):.0f}')"
   ]
  },
  {
   "cell_type": "markdown",
   "metadata": {},
   "source": [
    "The review length distribution shows most reviews are between 5-600 characters, with a few reviews extending to over 600 characters. The distribution suggests we should filter out extremely short reviews (likely low-quality) and very long ones (potentially spam or outliers)."
   ]
  },
  {
   "cell_type": "markdown",
   "metadata": {},
   "source": [
    "### 2.1. Long reviews"
   ]
  },
  {
   "cell_type": "code",
   "execution_count": 7,
   "metadata": {},
   "outputs": [
    {
     "name": "stdout",
     "output_type": "stream",
     "text": [
      " bait and switch i purchased my 3rd samsung tablet with  advertisement of free gifts, one of them being 48 additional gb cloud storage for 2 years.  the 2nd samsung tablet i bought also had this free gift and it was a nightmare to get samsung and dropbox to honor it.  so, after buying this 3rd high end tablet with the same claim of the free 48gb for 2 years in the fine print, which you can only see after purchasing the tablet, dropbox only honors the offer on the first device you purchased and you are disqualified for all future devices.  this is sleazy and bait and switch.  free= not subject to any compensation, encumbrance, repayment in kind, etc.  because of this bait and switch advertising on the part of samsung and dropbox i suggest you really find out what kind of company dropbox is before using their services.\n"
     ]
    }
   ],
   "source": [
    "data_df['review_length'] = lengths\n",
    "long_reviews = data_df[data_df['review_length'] > 600]\n",
    "\n",
    "print(long_reviews['review'].iloc[0])"
   ]
  },
  {
   "cell_type": "code",
   "execution_count": 8,
   "metadata": {},
   "outputs": [
    {
     "name": "stdout",
     "output_type": "stream",
     "text": [
      "  ătoo slow loading webclips!!! ăno pdf support at all... (even simpler apps do that!) ă web pages that are clipped do not adjust to current window size automatically when window is shrunk or expanded, (any program does this...geez). ă highlighting? needs more colors instead of brown mustard yellow. no customer support responses either, evernote must have been taken over by students. it's not even fun to use anymore because it is slow as hell.  this is especially for serious business users. any five star ratings down here must have been given by employees under different themes. this program has really retarded over the years. they need to stick to improving their bread and butter instead of selling side junk and features that are useless. well they got my money this time, so i have to put up with it for a few more months. the lack of pdf support really is terrible for a program like this.\n"
     ]
    }
   ],
   "source": [
    "print(long_reviews['review'].iloc[1])"
   ]
  },
  {
   "cell_type": "code",
   "execution_count": 9,
   "metadata": {},
   "outputs": [
    {
     "name": "stdout",
     "output_type": "stream",
     "text": [
      "  not since the update i don't.                                  update:- it is very slow on both data (uk ee network) and wifi (all of home via bt /work network/london underground virgin network) on all devices. version number is 13.0.2036.98649 on each device.  practically unusable at present and everything was fine before upgrading.  reading other comments i'm far from the only one having problems. high and low quality images helps but it is still worse than before the upgrade.  and just discovered that previously a double tap enlarged the text sufficiently to make it readable.  now it enlarges it a tiny amount but pinch and zoom is still required.    why did you do this?  the good old adage 'if it ain't broke don't fix it absolutely comes to mind.\n"
     ]
    }
   ],
   "source": [
    "print(long_reviews['review'].iloc[2])"
   ]
  },
  {
   "cell_type": "markdown",
   "metadata": {},
   "source": [
    "The long reviews do appear to be genuine reviews and we should therefore leave them in the dataset."
   ]
  },
  {
   "cell_type": "markdown",
   "metadata": {},
   "source": [
    "### 2.2. Short reviews"
   ]
  },
  {
   "cell_type": "code",
   "execution_count": 10,
   "metadata": {},
   "outputs": [
    {
     "data": {
      "text/html": [
       "<div>\n",
       "<style scoped>\n",
       "    .dataframe tbody tr th:only-of-type {\n",
       "        vertical-align: middle;\n",
       "    }\n",
       "\n",
       "    .dataframe tbody tr th {\n",
       "        vertical-align: top;\n",
       "    }\n",
       "\n",
       "    .dataframe thead th {\n",
       "        text-align: right;\n",
       "    }\n",
       "</style>\n",
       "<table border=\"1\" class=\"dataframe\">\n",
       "  <thead>\n",
       "    <tr style=\"text-align: right;\">\n",
       "      <th></th>\n",
       "      <th>package_name</th>\n",
       "      <th>review</th>\n",
       "      <th>polarity</th>\n",
       "      <th>review_length</th>\n",
       "    </tr>\n",
       "  </thead>\n",
       "  <tbody>\n",
       "    <tr>\n",
       "      <th>511</th>\n",
       "      <td>com.Slack</td>\n",
       "      <td>love new material design</td>\n",
       "      <td>1</td>\n",
       "      <td>26</td>\n",
       "    </tr>\n",
       "    <tr>\n",
       "      <th>513</th>\n",
       "      <td>com.Slack</td>\n",
       "      <td>better than groupme đ</td>\n",
       "      <td>1</td>\n",
       "      <td>26</td>\n",
       "    </tr>\n",
       "    <tr>\n",
       "      <th>514</th>\n",
       "      <td>com.Slack</td>\n",
       "      <td>one account for all devices</td>\n",
       "      <td>1</td>\n",
       "      <td>29</td>\n",
       "    </tr>\n",
       "    <tr>\n",
       "      <th>557</th>\n",
       "      <td>jabanaki.todo.todoly</td>\n",
       "      <td>awesome</td>\n",
       "      <td>1</td>\n",
       "      <td>11</td>\n",
       "    </tr>\n",
       "    <tr>\n",
       "      <th>755</th>\n",
       "      <td>com.shirantech.kantipur</td>\n",
       "      <td>too much pop up add</td>\n",
       "      <td>0</td>\n",
       "      <td>21</td>\n",
       "    </tr>\n",
       "  </tbody>\n",
       "</table>\n",
       "</div>"
      ],
      "text/plain": [
       "                package_name                         review  polarity  \\\n",
       "511                com.Slack       love new material design         1   \n",
       "513                com.Slack       better than groupme đ         1   \n",
       "514                com.Slack    one account for all devices         1   \n",
       "557     jabanaki.todo.todoly                      awesome           1   \n",
       "755  com.shirantech.kantipur            too much pop up add         0   \n",
       "\n",
       "     review_length  \n",
       "511             26  \n",
       "513             26  \n",
       "514             29  \n",
       "557             11  \n",
       "755             21  "
      ]
     },
     "execution_count": 10,
     "metadata": {},
     "output_type": "execute_result"
    }
   ],
   "source": [
    "short_length = 30\n",
    "\n",
    "short_reviews = data_df[data_df['review_length'] < short_length]\n",
    "short_reviews.head()"
   ]
  },
  {
   "cell_type": "markdown",
   "metadata": {},
   "source": [
    "### 2.3. Filter reviews by length"
   ]
  },
  {
   "cell_type": "code",
   "execution_count": 11,
   "metadata": {},
   "outputs": [
    {
     "name": "stdout",
     "output_type": "stream",
     "text": [
      "<class 'pandas.core.frame.DataFrame'>\n",
      "RangeIndex: 889 entries, 0 to 888\n",
      "Data columns (total 4 columns):\n",
      " #   Column         Non-Null Count  Dtype \n",
      "---  ------         --------------  ----- \n",
      " 0   package_name   889 non-null    object\n",
      " 1   review         889 non-null    object\n",
      " 2   polarity       889 non-null    int64 \n",
      " 3   review_length  889 non-null    int64 \n",
      "dtypes: int64(2), object(2)\n",
      "memory usage: 27.9+ KB\n"
     ]
    }
   ],
   "source": [
    "# Filter out reviews that are too short\n",
    "data_df = data_df[data_df['review_length'] >= 10]\n",
    "\n",
    "# Reset index after filtering\n",
    "data_df.reset_index(drop=True, inplace=True)\n",
    "data_df.info()"
   ]
  },
  {
   "cell_type": "markdown",
   "metadata": {},
   "source": [
    "After filtering, we retain 36,846 reviews (98.4% of the original dataset), removing 581 reviews that were too short or too long. This filtering maintains data quality while preserving the vast majority of useful reviews."
   ]
  },
  {
   "cell_type": "markdown",
   "metadata": {},
   "source": [
    "## 3. Text preprocessing\n",
    "\n",
    "Raw text data requires cleaning and normalization before it can be used for machine learning. This section applies standard NLP preprocessing steps to improve model performance by reducing noise and standardizing the text format. We convert to lowercase, remove numbers and punctuation, and apply lemmatization to reduce words to their root forms."
   ]
  },
  {
   "cell_type": "code",
   "execution_count": 12,
   "metadata": {},
   "outputs": [],
   "source": [
    "# Get just the reviews\n",
    "reviews = data_df['review']"
   ]
  },
  {
   "cell_type": "code",
   "execution_count": 13,
   "metadata": {},
   "outputs": [],
   "source": [
    "# Lowercase the reviews\n",
    "reviews = reviews.str.lower()"
   ]
  },
  {
   "cell_type": "code",
   "execution_count": 14,
   "metadata": {},
   "outputs": [],
   "source": [
    "# Remove all numbers from review text\n",
    "reviews = reviews.str.replace(r'\\d+', '', regex=True)"
   ]
  },
  {
   "cell_type": "code",
   "execution_count": 15,
   "metadata": {},
   "outputs": [],
   "source": [
    "# Remove punctuation\n",
    "reviews = reviews.str.replace('[{}]'.format(string.punctuation), '')"
   ]
  },
  {
   "cell_type": "code",
   "execution_count": 16,
   "metadata": {},
   "outputs": [],
   "source": [
    "# Remove non-ASCII characters (keeps only standard English alphabet)\n",
    "reviews = reviews.str.encode('ascii', errors='ignore').str.decode('ascii')"
   ]
  },
  {
   "cell_type": "code",
   "execution_count": 17,
   "metadata": {},
   "outputs": [],
   "source": [
    "# Filter english words only\n",
    "english_words = set(words.words())\n",
    "\n",
    "def filter_english_words(text):\n",
    "\n",
    "    # Split into words and keep only English words\n",
    "    word_list = text.split()\n",
    "    filtered_words = [word for word in word_list if word.lower() in english_words]\n",
    "    return ' '.join(filtered_words)\n",
    "\n",
    "# Apply English word filtering\n",
    "reviews = reviews.apply(filter_english_words)"
   ]
  },
  {
   "cell_type": "code",
   "execution_count": 18,
   "metadata": {},
   "outputs": [],
   "source": [
    "# Remove short words\n",
    "def remove_short_words(text, min_length=2):\n",
    "\n",
    "    # Remove words shorter than min_length characters\n",
    "    words = text.split()\n",
    "    filtered_words = [word for word in words if len(word) >= min_length]\n",
    "    return ' '.join(filtered_words)\n",
    "\n",
    "# Apply short word filtering\n",
    "reviews = reviews.apply(lambda x: remove_short_words(x, min_length=3))"
   ]
  },
  {
   "cell_type": "code",
   "execution_count": 19,
   "metadata": {},
   "outputs": [],
   "source": [
    "# Define function to lemmatize text\n",
    "def lemmatize_text(text):\n",
    "\n",
    "    # Initialize lemmatizer\n",
    "    lemmatizer = WordNetLemmatizer()\n",
    "\n",
    "    # Split text into individual words\n",
    "    words = nltk.word_tokenize(text)\n",
    "\n",
    "    # Convert each word to its base form\n",
    "    lemmatized_words = [lemmatizer.lemmatize(word) for word in words]\n",
    "\n",
    "    # Rejoin words into single string\n",
    "    lemmatized_text = ' '.join(lemmatized_words)\n",
    "\n",
    "    return lemmatized_text\n",
    "\n",
    "# Apply lemmatization to all reviews\n",
    "reviews = reviews.apply(lemmatize_text)"
   ]
  },
  {
   "cell_type": "markdown",
   "metadata": {},
   "source": [
    "## 4. Bag-of-words encoding\n",
    "\n",
    "Machine learning algorithms require numerical input, so we need to convert text into numerical features. The bag-of-words approach counts word frequencies in each review, creating a matrix where each row represents a review and each column represents a unique word."
   ]
  },
  {
   "cell_type": "code",
   "execution_count": 20,
   "metadata": {},
   "outputs": [
    {
     "name": "stdout",
     "output_type": "stream",
     "text": [
      "Word count matrix has 889 rows and 1821 columns\n"
     ]
    },
    {
     "data": {
      "text/html": [
       "<div>\n",
       "<style scoped>\n",
       "    .dataframe tbody tr th:only-of-type {\n",
       "        vertical-align: middle;\n",
       "    }\n",
       "\n",
       "    .dataframe tbody tr th {\n",
       "        vertical-align: top;\n",
       "    }\n",
       "\n",
       "    .dataframe thead th {\n",
       "        text-align: right;\n",
       "    }\n",
       "</style>\n",
       "<table border=\"1\" class=\"dataframe\">\n",
       "  <thead>\n",
       "    <tr style=\"text-align: right;\">\n",
       "      <th></th>\n",
       "      <th>ability</th>\n",
       "      <th>able</th>\n",
       "      <th>absolute</th>\n",
       "      <th>absolutely</th>\n",
       "      <th>absurdly</th>\n",
       "      <th>accepted</th>\n",
       "      <th>access</th>\n",
       "      <th>accessible</th>\n",
       "      <th>accident</th>\n",
       "      <th>accidently</th>\n",
       "      <th>...</th>\n",
       "      <th>write</th>\n",
       "      <th>writing</th>\n",
       "      <th>written</th>\n",
       "      <th>wrong</th>\n",
       "      <th>yahoo</th>\n",
       "      <th>yeah</th>\n",
       "      <th>year</th>\n",
       "      <th>yes</th>\n",
       "      <th>zero</th>\n",
       "      <th>zoom</th>\n",
       "    </tr>\n",
       "  </thead>\n",
       "  <tbody>\n",
       "    <tr>\n",
       "      <th>0</th>\n",
       "      <td>0</td>\n",
       "      <td>0</td>\n",
       "      <td>0</td>\n",
       "      <td>0</td>\n",
       "      <td>0</td>\n",
       "      <td>0</td>\n",
       "      <td>0</td>\n",
       "      <td>0</td>\n",
       "      <td>0</td>\n",
       "      <td>0</td>\n",
       "      <td>...</td>\n",
       "      <td>0</td>\n",
       "      <td>0</td>\n",
       "      <td>0</td>\n",
       "      <td>0</td>\n",
       "      <td>0</td>\n",
       "      <td>0</td>\n",
       "      <td>0</td>\n",
       "      <td>0</td>\n",
       "      <td>0</td>\n",
       "      <td>0</td>\n",
       "    </tr>\n",
       "    <tr>\n",
       "      <th>1</th>\n",
       "      <td>0</td>\n",
       "      <td>0</td>\n",
       "      <td>0</td>\n",
       "      <td>0</td>\n",
       "      <td>0</td>\n",
       "      <td>0</td>\n",
       "      <td>0</td>\n",
       "      <td>0</td>\n",
       "      <td>0</td>\n",
       "      <td>0</td>\n",
       "      <td>...</td>\n",
       "      <td>0</td>\n",
       "      <td>0</td>\n",
       "      <td>0</td>\n",
       "      <td>0</td>\n",
       "      <td>0</td>\n",
       "      <td>0</td>\n",
       "      <td>0</td>\n",
       "      <td>0</td>\n",
       "      <td>0</td>\n",
       "      <td>0</td>\n",
       "    </tr>\n",
       "    <tr>\n",
       "      <th>2</th>\n",
       "      <td>0</td>\n",
       "      <td>0</td>\n",
       "      <td>0</td>\n",
       "      <td>0</td>\n",
       "      <td>0</td>\n",
       "      <td>0</td>\n",
       "      <td>0</td>\n",
       "      <td>0</td>\n",
       "      <td>0</td>\n",
       "      <td>0</td>\n",
       "      <td>...</td>\n",
       "      <td>0</td>\n",
       "      <td>0</td>\n",
       "      <td>0</td>\n",
       "      <td>0</td>\n",
       "      <td>0</td>\n",
       "      <td>0</td>\n",
       "      <td>0</td>\n",
       "      <td>0</td>\n",
       "      <td>0</td>\n",
       "      <td>0</td>\n",
       "    </tr>\n",
       "    <tr>\n",
       "      <th>3</th>\n",
       "      <td>0</td>\n",
       "      <td>1</td>\n",
       "      <td>0</td>\n",
       "      <td>0</td>\n",
       "      <td>0</td>\n",
       "      <td>0</td>\n",
       "      <td>0</td>\n",
       "      <td>0</td>\n",
       "      <td>0</td>\n",
       "      <td>0</td>\n",
       "      <td>...</td>\n",
       "      <td>0</td>\n",
       "      <td>0</td>\n",
       "      <td>0</td>\n",
       "      <td>0</td>\n",
       "      <td>0</td>\n",
       "      <td>0</td>\n",
       "      <td>0</td>\n",
       "      <td>0</td>\n",
       "      <td>0</td>\n",
       "      <td>0</td>\n",
       "    </tr>\n",
       "    <tr>\n",
       "      <th>4</th>\n",
       "      <td>0</td>\n",
       "      <td>0</td>\n",
       "      <td>0</td>\n",
       "      <td>0</td>\n",
       "      <td>0</td>\n",
       "      <td>0</td>\n",
       "      <td>0</td>\n",
       "      <td>0</td>\n",
       "      <td>0</td>\n",
       "      <td>0</td>\n",
       "      <td>...</td>\n",
       "      <td>0</td>\n",
       "      <td>0</td>\n",
       "      <td>0</td>\n",
       "      <td>0</td>\n",
       "      <td>0</td>\n",
       "      <td>0</td>\n",
       "      <td>0</td>\n",
       "      <td>0</td>\n",
       "      <td>0</td>\n",
       "      <td>0</td>\n",
       "    </tr>\n",
       "  </tbody>\n",
       "</table>\n",
       "<p>5 rows × 1821 columns</p>\n",
       "</div>"
      ],
      "text/plain": [
       "   ability  able  absolute  absolutely  absurdly  accepted  access  \\\n",
       "0        0     0         0           0         0         0       0   \n",
       "1        0     0         0           0         0         0       0   \n",
       "2        0     0         0           0         0         0       0   \n",
       "3        0     1         0           0         0         0       0   \n",
       "4        0     0         0           0         0         0       0   \n",
       "\n",
       "   accessible  accident  accidently  ...  write  writing  written  wrong  \\\n",
       "0           0         0           0  ...      0        0        0      0   \n",
       "1           0         0           0  ...      0        0        0      0   \n",
       "2           0         0           0  ...      0        0        0      0   \n",
       "3           0         0           0  ...      0        0        0      0   \n",
       "4           0         0           0  ...      0        0        0      0   \n",
       "\n",
       "   yahoo  yeah  year  yes  zero  zoom  \n",
       "0      0     0     0    0     0     0  \n",
       "1      0     0     0    0     0     0  \n",
       "2      0     0     0    0     0     0  \n",
       "3      0     0     0    0     0     0  \n",
       "4      0     0     0    0     0     0  \n",
       "\n",
       "[5 rows x 1821 columns]"
      ]
     },
     "execution_count": 20,
     "metadata": {},
     "output_type": "execute_result"
    }
   ],
   "source": [
    "# Initialize and fit CountVectorizer with English stop words\n",
    "vector_model = CountVectorizer(stop_words=\"english\")\n",
    "word_counts = vector_model.fit_transform(reviews).toarray()\n",
    "\n",
    "print(f'Word count matrix has {word_counts.shape[0]} rows and {word_counts.shape[1]} columns')\n",
    "\n",
    "# Extract feature names (words) from vectorizer\n",
    "feature_names = vector_model.get_feature_names_out()\n",
    "\n",
    "# Convert word count matrix to DataFrame with word names as columns\n",
    "word_count_df = pd.DataFrame(word_counts, columns=feature_names)\n",
    "\n",
    "# Display first few rows\n",
    "word_count_df.head()"
   ]
  },
  {
   "cell_type": "markdown",
   "metadata": {},
   "source": [
    "The vectorization process created a matrix with almost 2000 unique words. This high dimensionality suggests we'll benefit from feature selection to remove rare words that may not generalize well."
   ]
  },
  {
   "cell_type": "markdown",
   "metadata": {},
   "source": [
    "## 5. Data preparation\n",
    "\n",
    "Before training models, we need to split our data into training and testing sets. This allows us to train models on one portion of the data and evaluate their performance on unseen data. We also save the processed data for future use, avoiding the need to repeat the preprocessing steps.\n",
    "\n",
    "### 5.1. Train-test split"
   ]
  },
  {
   "cell_type": "code",
   "execution_count": 25,
   "metadata": {},
   "outputs": [],
   "source": [
    "# Add the label back\n",
    "word_count_df['polarity'] = data_df['polarity'].copy()\n",
    "\n",
    "# Train test split\n",
    "training_df, testing_df = train_test_split(word_count_df, test_size=0.3)"
   ]
  },
  {
   "cell_type": "markdown",
   "metadata": {},
   "source": [
    "### 5.2. Feature selection\n",
    "\n",
    "#### 5.2.1. Word frequency filtering"
   ]
  },
  {
   "cell_type": "code",
   "execution_count": 26,
   "metadata": {},
   "outputs": [
    {
     "name": "stdout",
     "output_type": "stream",
     "text": [
      "Word count min: 0\n",
      "Word count max: 103\n"
     ]
    },
    {
     "data": {
      "image/png": "[encoded data removed]",
      "text/plain": [
       "<Figure size 640x480 with 1 Axes>"
      ]
     },
     "metadata": {},
     "output_type": "display_data"
    }
   ],
   "source": [
    "# Sum word counts across all reviews, using the training dataset only\n",
    "word_counts = training_df.drop('polarity', axis=1).sum().tolist()\n",
    "\n",
    "# Display range of word frequencies\n",
    "print(f'Word count min: {min(word_counts)}')\n",
    "print(f'Word count max: {max(word_counts)}')\n",
    "\n",
    "# Plot distribution of word frequencies\n",
    "plt.title('Word count distribution')\n",
    "plt.xlabel('Count')\n",
    "plt.ylabel('Words')\n",
    "plt.hist(word_counts, bins=30, color='black')\n",
    "plt.yscale('log')\n",
    "plt.show()"
   ]
  },
  {
   "cell_type": "code",
   "execution_count": 27,
   "metadata": {},
   "outputs": [
    {
     "name": "stdout",
     "output_type": "stream",
     "text": [
      "<class 'pandas.core.frame.DataFrame'>\n",
      "RangeIndex: 622 entries, 0 to 621\n",
      "Columns: 447 entries, ability to polarity\n",
      "dtypes: int64(447)\n",
      "memory usage: 2.1 MB\n"
     ]
    }
   ],
   "source": [
    "# Create DataFrame with word names and their total counts\n",
    "total_word_count_df = pd.DataFrame({\n",
    "    'word': training_df.drop('polarity', axis=1).columns,\n",
    "    'count': word_counts\n",
    "})\n",
    "\n",
    "# Filter words that appear between 4-149 times (removes rare and very common words)\n",
    "trimmed_word_count_df = total_word_count_df[(total_word_count_df['count'] > 3) & (total_word_count_df['count'] < 150)]\n",
    "\n",
    "# Keep only the filtered words in the training and testing dataframes\n",
    "training_df = training_df[trimmed_word_count_df['word'].tolist() + ['polarity']]\n",
    "testing_df = testing_df[trimmed_word_count_df['word'].tolist() + ['polarity']]\n",
    "training_df.reset_index(drop=True, inplace=True)\n",
    "testing_df.reset_index(drop=True, inplace=True)\n",
    "training_df.info()"
   ]
  },
  {
   "cell_type": "code",
   "execution_count": 28,
   "metadata": {},
   "outputs": [
    {
     "name": "stdout",
     "output_type": "stream",
     "text": [
      "Word count min: 4\n",
      "Word count max: 103\n"
     ]
    },
    {
     "data": {
      "image/png": "[encoded data removed]",
      "text/plain": [
       "<Figure size 640x480 with 1 Axes>"
      ]
     },
     "metadata": {},
     "output_type": "display_data"
    }
   ],
   "source": [
    "# Recalculate word counts after feature filtering\n",
    "word_counts = training_df.drop('polarity', axis=1).sum().tolist()\n",
    "\n",
    "# Display new range after filtering\n",
    "print(f'Word count min: {min(word_counts)}')\n",
    "print(f'Word count max: {max(word_counts)}')\n",
    "\n",
    "# Plot updated distribution\n",
    "plt.title('Trimmed word count distribution')\n",
    "plt.xlabel('Count')\n",
    "plt.ylabel('Words')\n",
    "plt.hist(word_counts, bins=30, color='black')\n",
    "plt.yscale('log')\n",
    "plt.show()"
   ]
  },
  {
   "cell_type": "markdown",
   "metadata": {},
   "source": [
    "#### 5.2.2. Recursive feature elimination"
   ]
  },
  {
   "cell_type": "code",
   "execution_count": 30,
   "metadata": {},
   "outputs": [],
   "source": [
    "estimator = LogisticRegression(max_iter=500, random_state=RANDOM_SEED)\n",
    "\n",
    "selector = RFECV(\n",
    "    estimator,\n",
    "    step=1,\n",
    "    cv=StratifiedShuffleSplit(\n",
    "        n_splits=CV_FOLDS,\n",
    "        test_size=CV_SPLIT,\n",
    "        random_state=RANDOM_SEED\n",
    "    )\n",
    ")\n",
    "\n",
    "selector = selector.fit(training_df.drop('polarity', axis=1), training_df['polarity'])"
   ]
  },
  {
   "cell_type": "code",
   "execution_count": 34,
   "metadata": {},
   "outputs": [
    {
     "name": "stdout",
     "output_type": "stream",
     "text": [
      "RFECV selected 372 features\n",
      "\n",
      "<class 'pandas.core.frame.DataFrame'>\n",
      "RangeIndex: 622 entries, 0 to 621\n",
      "Columns: 373 entries, able to polarity\n",
      "dtypes: int64(373)\n",
      "memory usage: 1.8 MB\n"
     ]
    }
   ],
   "source": [
    "selected_features = selector.get_feature_names_out()\n",
    "print(f'RFECV selected {len(selected_features)} features\\n')\n",
    "\n",
    "training_df = training_df[selected_features.tolist() + ['polarity']]\n",
    "testing_df = testing_df[selected_features.tolist() + ['polarity']]\n",
    "\n",
    "training_df.info()"
   ]
  },
  {
   "cell_type": "markdown",
   "metadata": {},
   "source": [
    "### 5.3. Save the processed data"
   ]
  },
  {
   "cell_type": "code",
   "execution_count": null,
   "metadata": {},
   "outputs": [],
   "source": [
    "# Create processed data directory\n",
    "Path('../data/processed').mkdir(exist_ok=True, parents=True)\n",
    "\n",
    "# Package training and testing data for saving\n",
    "data = {\n",
    "    'training_df': training_df,\n",
    "    'testing_df': testing_df\n",
    "}\n",
    "\n",
    "# Save processed data as pickle file\n",
    "with open('../data/processed/processed_data.pkl', 'wb') as output_file:\n",
    "    pickle.dump(data, output_file)"
   ]
  },
  {
   "cell_type": "markdown",
   "metadata": {},
   "source": [
    "## 6. Model comparison\n",
    "\n",
    "This section systematically compares different classification algorithms and techniques. We start with standard implementations, then explore advanced approaches using dimensionality reduction. The goal is to find the best-performing model configuration through rigorous cross-validation and hyperparameter optimization.\n",
    "\n",
    "### 6.1. Standard Scikit-learn implementations"
   ]
  },
  {
   "cell_type": "code",
   "execution_count": null,
   "metadata": {},
   "outputs": [],
   "source": [
    "# Define dictionary of models to compare\n",
    "models = {\n",
    "    'LogisticRegression': LogisticRegression(max_iter=500, random_state=RANDOM_SEED),\n",
    "    'MultinomialNB': MultinomialNB(),\n",
    "    'GaussianNB': GaussianNB(),\n",
    "    'BernoulliNB': BernoulliNB(),\n",
    "    'ComplementNB': ComplementNB()\n",
    "}\n",
    "\n",
    "# Perform cross-validation on all models\n",
    "cross_val_scores = funcs.cross_validate_models(\n",
    "    models,\n",
    "    training_df,\n",
    "    label='polarity',\n",
    "    cv=StratifiedShuffleSplit(\n",
    "        n_splits=CV_FOLDS,\n",
    "        test_size=CV_SPLIT,\n",
    "        random_state=RANDOM_SEED\n",
    "    )\n",
    ")"
   ]
  },
  {
   "cell_type": "markdown",
   "metadata": {},
   "source": [
    "### 6.2. PCA + ComplementNB\n",
    "\n",
    "Principal Component Analysis (PCA) reduces dimensionality by finding linear combinations of features that capture the most variance. This can improve model performance by reducing noise and computational complexity while retaining the most informative aspects of the data.\n",
    "\n",
    "#### 6.2.1. Component number & variance explained"
   ]
  },
  {
   "cell_type": "code",
   "execution_count": null,
   "metadata": {},
   "outputs": [],
   "source": [
    "# Create range of component numbers to test\n",
    "components_list = np.linspace(1, training_df.shape[0], 100, dtype=int)\n",
    "\n",
    "# Initialize lists to store results\n",
    "n_components = []\n",
    "variance = []\n",
    "\n",
    "# Test different numbers of PCA components\n",
    "for components in components_list:\n",
    "    print(f'Calculating {components} components...', end='\\r')\n",
    "    \n",
    "    # Fit PCA with current number of components\n",
    "    pca = PCA(n_components=components)\n",
    "    pca.fit(training_df.drop('polarity', axis=1))\n",
    "\n",
    "    # Store component count and cumulative explained variance\n",
    "    n_components.append(components)\n",
    "    variance.append(np.sum(pca.explained_variance_ratio_))\n",
    "\n",
    "# Plot variance explained vs number of components\n",
    "plt.title('PCA explained variance ratio')\n",
    "plt.xlabel('Number of components')\n",
    "plt.ylabel('Explained variance ratio')\n",
    "plt.plot(n_components, variance, color='black')\n",
    "plt.show()"
   ]
  },
  {
   "cell_type": "markdown",
   "metadata": {},
   "source": [
    "The PCA analysis shows that we need a substantial number of components to capture most of the variance in the data. The curve indicates that dimensionality reduction will require careful balancing between compression and information retention."
   ]
  },
  {
   "cell_type": "markdown",
   "metadata": {},
   "source": [
    "#### 6.2.2. Dimensionality reduction/classifier pipeline optimization"
   ]
  },
  {
   "cell_type": "code",
   "execution_count": null,
   "metadata": {},
   "outputs": [],
   "source": [
    "# Initialize pipeline components\n",
    "pca = PCA()\n",
    "scaler = MinMaxScaler()\n",
    "cnb = ComplementNB()\n",
    "\n",
    "# Create pipeline with PCA, scaling, and classifier\n",
    "pipe = Pipeline(steps=[('PCA', pca), ('scaler', scaler), ('cnb', cnb)])\n",
    "\n",
    "# Define search space for number of components\n",
    "cv_size = int(training_df.shape[0] * CV_SPLIT)\n",
    "components_list = list(range(1, cv_size))\n",
    "\n",
    "# Set up parameter grid for grid search\n",
    "param_grid = {\n",
    "    'PCA__n_components': components_list,\n",
    "}\n",
    "\n",
    "# Initialize grid search with stratified cross-validation\n",
    "search = GridSearchCV(\n",
    "    pipe,\n",
    "    param_grid,\n",
    "    n_jobs=-1,\n",
    "    cv=StratifiedShuffleSplit(\n",
    "        n_splits=CV_FOLDS,\n",
    "        test_size=CV_SPLIT,\n",
    "        random_state=RANDOM_SEED\n",
    "    )\n",
    ")\n",
    "\n",
    "# Fit grid search to find optimal parameters\n",
    "search_results = search.fit(\n",
    "    training_df.drop('polarity', axis=1).copy(),\n",
    "    training_df['polarity'].copy()\n",
    ")\n",
    "\n",
    "# Extract best model and parameters\n",
    "best_model = search_results.best_estimator_\n",
    "winning_hyperparameters = search_results.best_params_\n",
    "\n",
    "print(winning_hyperparameters)"
   ]
  },
  {
   "cell_type": "code",
   "execution_count": null,
   "metadata": {},
   "outputs": [],
   "source": [
    "funcs.plot_cross_validation(search_results)"
   ]
  },
  {
   "cell_type": "code",
   "execution_count": null,
   "metadata": {},
   "outputs": [],
   "source": [
    "# Evaluate best PCA model with cross-validation\n",
    "scores = cross_val_score(\n",
    "    best_model,\n",
    "    training_df.drop('polarity', axis=1).copy(),\n",
    "    training_df['polarity'].copy(),\n",
    "    cv=StratifiedShuffleSplit(\n",
    "        n_splits=CV_FOLDS,\n",
    "        test_size=CV_SPLIT,\n",
    "        random_state=RANDOM_SEED\n",
    "    ),\n",
    "    n_jobs=-1\n",
    ")\n",
    "\n",
    "# Add results to cross-validation scores collection\n",
    "cross_val_scores['Model'].extend(['PCA + ComplementNB']*len(scores))\n",
    "cross_val_scores['Score'].extend(scores*100)\n",
    "\n",
    "# Display performance summary\n",
    "print(f'Cross-validation accuracy: {np.mean(scores)*100:.1f} +/- {np.std(scores)*100:.1f}%')"
   ]
  },
  {
   "cell_type": "markdown",
   "metadata": {},
   "source": [
    "### 6.3. Feature agglomeration\n",
    "\n",
    "Feature agglomeration uses hierarchical clustering to group similar features together, creating new features that are combinations of the original ones. This approach can reduce dimensionality while preserving interpretability better than PCA, as the new features are still based on meaningful word combinations.\n",
    "\n",
    "#### 6.3.1. Feature cross-correlation distribution"
   ]
  },
  {
   "cell_type": "code",
   "execution_count": null,
   "metadata": {},
   "outputs": [],
   "source": [
    "# Calculate Spearman correlation matrix for all features\n",
    "corrs = training_df.drop('polarity', axis=1).corr(method='spearman')\n",
    "\n",
    "# Extract upper triangular portion to avoid duplicates\n",
    "upper_right_entries = np.triu_indices(len(corrs), 1)\n",
    "corrs = corrs.values[upper_right_entries]\n",
    "\n",
    "# Flatten correlation values\n",
    "corrs = corrs.flatten()\n",
    "\n",
    "# Plot distribution of feature correlations\n",
    "plt.title('Feature correlation distribution')\n",
    "plt.hist(corrs, bins=30, color='black')\n",
    "plt.xlabel('Spearman correlation coefficient')\n",
    "plt.ylabel('Feature pairs')\n",
    "plt.yscale('log')\n",
    "plt.show()"
   ]
  },
  {
   "cell_type": "markdown",
   "metadata": {},
   "source": [
    "The feature correlation analysis reveals that most word features have low correlation with each other. However some words have high correlations with each other, which violates the assumptions of Naive Bayes models. The distribution shows we may be able to reduce dimensionality and de-correlate the features at the same time via feature agglomeration."
   ]
  },
  {
   "cell_type": "markdown",
   "metadata": {},
   "source": [
    "#### 6.3.2. Feature agglomeration clustering"
   ]
  },
  {
   "cell_type": "code",
   "execution_count": null,
   "metadata": {},
   "outputs": [],
   "source": [
    "# Apply feature agglomeration to cluster similar features\n",
    "combiner = FeatureAgglomeration(n_clusters=50)\n",
    "\n",
    "# Transform features using clustering\n",
    "combined_features = combiner.fit_transform(\n",
    "    training_df.drop('polarity', axis=1).copy(),\n",
    "    training_df['polarity'].copy()\n",
    ")\n",
    "\n",
    "# Convert to DataFrame for correlation analysis\n",
    "combined_features = pd.DataFrame(combined_features)\n",
    "\n",
    "# Calculate correlations between clustered features\n",
    "corrs = combined_features.corr(method='spearman')\n",
    "upper_right_entries = np.triu_indices(len(corrs), 1)\n",
    "corrs = corrs.values[upper_right_entries]\n",
    "corrs = corrs.flatten()\n",
    "\n",
    "# Plot correlation distribution after feature clustering\n",
    "plt.title('Feature correlation distribution')\n",
    "plt.hist(corrs, bins=30, color='black')\n",
    "plt.xlabel('Spearman correlation coefficient')\n",
    "plt.ylabel('Feature pairs')\n",
    "plt.yscale('log')\n",
    "plt.show()"
   ]
  },
  {
   "cell_type": "markdown",
   "metadata": {},
   "source": [
    "After feature agglomeration, the correlation structure changes significantly. The clustering process has successfully grouped related features, creating new composite features that capture semantic relationships between words."
   ]
  },
  {
   "cell_type": "markdown",
   "metadata": {},
   "source": [
    "#### 6.3.3. Feature agglomeration + ComplementNB pipeline optimization"
   ]
  },
  {
   "cell_type": "code",
   "execution_count": null,
   "metadata": {},
   "outputs": [],
   "source": [
    "# Initialize feature agglomeration and classifier\n",
    "combiner = FeatureAgglomeration()\n",
    "cnb = ComplementNB()\n",
    "\n",
    "# Create pipeline combining feature clustering with classification\n",
    "pipe = Pipeline(steps=[('combiner', combiner), ('cnb', cnb)])\n",
    "\n",
    "# Define search space for number of clusters and linkage methods\n",
    "n_features = training_df.drop('polarity', axis=1).shape[1]\n",
    "features = list(range(1, n_features + 1))\n",
    "\n",
    "# Set up parameter grid for optimization\n",
    "param_grid = {\n",
    "    'combiner__n_clusters': features,\n",
    "    'combiner__linkage': ['ward', 'complete', 'average', 'single']\n",
    "}\n",
    "\n",
    "# Initialize grid search\n",
    "search = GridSearchCV(\n",
    "    pipe,\n",
    "    param_grid,\n",
    "    n_jobs=-1,\n",
    "    cv=StratifiedShuffleSplit(\n",
    "        n_splits=CV_FOLDS,\n",
    "        test_size=CV_SPLIT,\n",
    "        random_state=RANDOM_SEED\n",
    "    )\n",
    ")\n",
    "\n",
    "# Find optimal hyperparameters\n",
    "search_results = search.fit(\n",
    "    training_df.drop('polarity', axis=1).copy(),\n",
    "    training_df['polarity'].copy()\n",
    ")\n",
    "\n",
    "# Store best model and parameters\n",
    "agg_cnb_best_model = search_results.best_estimator_\n",
    "agg_cnb_winning_hyperparameters = search_results.best_params_\n",
    "\n",
    "print(agg_cnb_winning_hyperparameters)"
   ]
  },
  {
   "cell_type": "code",
   "execution_count": null,
   "metadata": {},
   "outputs": [],
   "source": [
    "funcs.plot_cross_validation(search_results)"
   ]
  },
  {
   "cell_type": "code",
   "execution_count": null,
   "metadata": {},
   "outputs": [],
   "source": [
    "# Evaluate best agglomeration + CNB model\n",
    "scores = cross_val_score(\n",
    "    agg_cnb_best_model,\n",
    "    training_df.drop('polarity', axis=1).copy(),\n",
    "    training_df['polarity'].copy(),\n",
    "    cv=StratifiedShuffleSplit(\n",
    "        n_splits=CV_FOLDS,\n",
    "        test_size=CV_SPLIT,\n",
    "        random_state=RANDOM_SEED\n",
    "    ),\n",
    "    n_jobs=-1\n",
    ")\n",
    "\n",
    "# Add results to comparison\n",
    "cross_val_scores['Model'].extend(['agg. + ComplementNB']*len(scores))\n",
    "cross_val_scores['Score'].extend(scores*100)\n",
    "\n",
    "# Display performance\n",
    "print(f'Cross-validation accuracy: {np.mean(scores)*100:.1f} +/- {np.std(scores)*100:.1f}%')"
   ]
  },
  {
   "cell_type": "markdown",
   "metadata": {},
   "source": [
    "The feature agglomeration + ComplementNB approach demonstrates competitive performance. The hierarchical clustering of features provides an interpretable way to reduce dimensionality while maintaining classification accuracy."
   ]
  },
  {
   "cell_type": "markdown",
   "metadata": {},
   "source": [
    "#### 6.3.4. Feature agglomeration + MultinomialNB pipeline optimization"
   ]
  },
  {
   "cell_type": "code",
   "execution_count": null,
   "metadata": {},
   "outputs": [],
   "source": [
    "# Initialize components for MultinomialNB pipeline\n",
    "combiner = FeatureAgglomeration()\n",
    "mnb = MultinomialNB()\n",
    "\n",
    "# Create agglomeration + MultinomialNB pipeline\n",
    "pipe = Pipeline(steps=[('combiner', combiner), ('mnb', mnb)])\n",
    "\n",
    "# Define same parameter space as CNB version\n",
    "n_features = training_df.drop('polarity', axis=1).shape[1]\n",
    "features = list(range(1, n_features + 1))\n",
    "\n",
    "# Set up parameter grid\n",
    "param_grid = {\n",
    "    'combiner__n_clusters': features,\n",
    "    'combiner__linkage': ['ward', 'complete', 'average', 'single']\n",
    "}\n",
    "\n",
    "# Initialize and run grid search\n",
    "search = GridSearchCV(\n",
    "    pipe,\n",
    "    param_grid,\n",
    "    n_jobs=-1,\n",
    "    cv=StratifiedShuffleSplit(\n",
    "        n_splits=CV_FOLDS,\n",
    "        test_size=CV_SPLIT,\n",
    "        random_state=RANDOM_SEED\n",
    "    )\n",
    ")\n",
    "\n",
    "# Fit and extract results\n",
    "search_results = search.fit(\n",
    "    training_df.drop('polarity', axis=1).copy(),\n",
    "    training_df['polarity'].copy()\n",
    ")\n",
    "\n",
    "# Store best results\n",
    "agg_mnb_best_model = search_results.best_estimator_\n",
    "agg_mnb_winning_hyperparameters = search_results.best_params_\n",
    "\n",
    "print(agg_mnb_winning_hyperparameters)"
   ]
  },
  {
   "cell_type": "code",
   "execution_count": null,
   "metadata": {},
   "outputs": [],
   "source": [
    "funcs.plot_cross_validation(search_results)"
   ]
  },
  {
   "cell_type": "code",
   "execution_count": null,
   "metadata": {},
   "outputs": [],
   "source": [
    "# Evaluate best agglomeration + MNB model\n",
    "scores = cross_val_score(\n",
    "    agg_mnb_best_model,\n",
    "    training_df.drop('polarity', axis=1).copy(),\n",
    "    training_df['polarity'].copy(),\n",
    "    cv=StratifiedShuffleSplit(\n",
    "        n_splits=CV_FOLDS,\n",
    "        test_size=CV_SPLIT,\n",
    "        random_state=RANDOM_SEED\n",
    "    ),\n",
    "    n_jobs=-1\n",
    ")\n",
    "\n",
    "# Add results to comparison collection\n",
    "cross_val_scores['Model'].extend(['agg. + MultinomialNB']*len(scores))\n",
    "cross_val_scores['Score'].extend(scores*100)\n",
    "\n",
    "# Display performance summary\n",
    "print(f'Cross-validation accuracy: {np.mean(scores)*100:.1f} +/- {np.std(scores)*100:.1f}%')"
   ]
  },
  {
   "cell_type": "markdown",
   "metadata": {},
   "source": [
    "The feature agglomeration + MultinomialNB combination provides another competitive option. Comparing different Naive Bayes variants with the same dimensionality reduction technique helps identify the best algorithm for this specific text classification task."
   ]
  },
  {
   "cell_type": "markdown",
   "metadata": {},
   "source": [
    "### 6.6. Cross-validation performance"
   ]
  },
  {
   "cell_type": "code",
   "execution_count": null,
   "metadata": {},
   "outputs": [],
   "source": [
    "sns.boxplot(pd.DataFrame.from_dict(cross_val_scores), x='Model', y='Score')\n",
    "plt.title('Model cross-validation performance comparison')\n",
    "plt.ylabel('Accuracy (%)')\n",
    "plt.xticks(rotation=25, ha='right')\n",
    "plt.show()"
   ]
  },
  {
   "cell_type": "markdown",
   "metadata": {},
   "source": [
    "The cross-validation comparison reveals the relative performance of all tested approaches. The boxplot shows the distribution of accuracy scores across different folds, helping identify the most consistent and highest-performing models for final selection. Multinomial and complement naive Bayes models perform similarly to each other and better than logistic regression. Adding feature agglomeration increases performance further over either model alone.\n",
    "\n",
    "Complement naive Bayes with feature agglomeration is the overall winner based on cross-validation accuracy."
   ]
  },
  {
   "cell_type": "markdown",
   "metadata": {},
   "source": [
    "## 7. Final model evaluation\n",
    "\n",
    "After comparing different approaches through cross-validation, we select the best performing models for final evaluation on the test set. This provides an unbiased estimate of how well our models will perform on new, unseen data. We compare a linear baseline model with our optimized Naive Bayes approach."
   ]
  },
  {
   "cell_type": "code",
   "execution_count": null,
   "metadata": {},
   "outputs": [],
   "source": [
    "# Initialize dictionary to store final models\n",
    "models = {}\n",
    "\n",
    "# Train linear model (baseline)\n",
    "models['Linear model'] = LogisticRegression(max_iter=500, random_state=RANDOM_SEED)\n",
    "models['Linear model'].fit(training_df.drop('polarity', axis=1), training_df['polarity'])\n",
    "\n",
    "# Create and train best Bayes model using optimal agglomeration parameters\n",
    "combiner = FeatureAgglomeration(\n",
    "    linkage=agg_cnb_winning_hyperparameters['combiner__linkage'],\n",
    "    n_clusters=agg_cnb_winning_hyperparameters['combiner__n_clusters']\n",
    ")\n",
    "\n",
    "cnb = ComplementNB()\n",
    "\n",
    "models['Bayes model'] = Pipeline(steps=[('combiner', combiner), ('cnb', cnb)])\n",
    "models['Bayes model'].fit(training_df.drop('polarity', axis=1), training_df['polarity'])\n",
    "\n",
    "# Set up subplot grid for confusion matrices\n",
    "fig, axs = plt.subplots(1, 2, figsize=(8, 4))\n",
    "\n",
    "# Flatten axes array for easier indexing\n",
    "axs = axs.flatten()\n",
    "\n",
    "fig.suptitle('Test set classification performance')\n",
    "\n",
    "# Generate confusion matrix for each model\n",
    "for i, (model_name, model) in enumerate(models.items()):\n",
    "    # Make predictions on test set\n",
    "    testing_predictions = model.predict(testing_df.drop('polarity', axis=1))\n",
    "    accuracy = accuracy_score(testing_predictions, testing_df['polarity'])*100\n",
    "\n",
    "    # Create normalized confusion matrix\n",
    "    cm = confusion_matrix(testing_df['polarity'], testing_predictions, normalize='true')\n",
    "    cm_disp = ConfusionMatrixDisplay(confusion_matrix=cm)\n",
    "    _ = cm_disp.plot(ax=axs[i])\n",
    "\n",
    "    # Set subplot title and labels\n",
    "    axs[i].set_title(f'{model_name}\\noverall accuracy: {accuracy:.1f}%')\n",
    "    axs[i].set_xlabel('Predicted outcome')\n",
    "    axs[i].set_ylabel('True outcome')\n",
    "\n",
    "fig.tight_layout()"
   ]
  },
  {
   "cell_type": "markdown",
   "metadata": {},
   "source": [
    "The final evaluation on the test set shows the true performance of our selected models on unseen data. The confusion matrices reveal how well each model distinguishes between positive and negative reviews, with detailed breakdowns of true/false positives and negatives. The Bayes model with feature agglomeration demonstrates strong performance compared to the linear baseline."
   ]
  },
  {
   "cell_type": "markdown",
   "metadata": {},
   "source": [
    "## 8. Save final models\n",
    "\n",
    "We save the winning model to disk for future use in production or further analysis. This allows us to deploy the models without needing to retrain them, which is especially important for computationally expensive models."
   ]
  },
  {
   "cell_type": "code",
   "execution_count": null,
   "metadata": {},
   "outputs": [],
   "source": [
    "with open('../models/final_model.pkl', 'wb') as output_file:\n",
    "    pickle.dump(models['Bayes model'], output_file)"
   ]
  }
 ],
 "metadata": {
  "kernelspec": {
   "display_name": "Python 3",
   "language": "python",
   "name": "python3"
  },
  "language_info": {
   "codemirror_mode": {
    "name": "ipython",
    "version": 3
   },
   "file_extension": ".py",
   "mimetype": "text/x-python",
   "name": "python",
   "nbconvert_exporter": "python",
   "pygments_lexer": "ipython3",
   "version": "3.11.4"
  }
 },
 "nbformat": 4,
 "nbformat_minor": 2
}
